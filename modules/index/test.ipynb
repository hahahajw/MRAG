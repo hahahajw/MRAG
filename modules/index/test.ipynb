{
 "cells": [
  {
   "cell_type": "code",
   "execution_count": 1,
   "id": "321ec22b",
   "metadata": {},
   "outputs": [
    {
     "data": {
      "text/plain": [
       "'sk-2dbd924dfac3448cbab412877746b12e'"
      ]
     },
     "execution_count": 1,
     "metadata": {},
     "output_type": "execute_result"
    }
   ],
   "source": [
    "import os\n",
    "\n",
    "os.getenv('BL_API_KEY')"
   ]
  },
  {
   "cell_type": "markdown",
   "id": "0447c5f5",
   "metadata": {},
   "source": [
    "测试 image  to text "
   ]
  },
  {
   "cell_type": "code",
   "execution_count": 1,
   "id": "e97a0ffa",
   "metadata": {},
   "outputs": [],
   "source": [
    "import sys\n",
    "\n",
    "sys.path.append('../../')"
   ]
  },
  {
   "cell_type": "code",
   "execution_count": 2,
   "id": "9217c67b",
   "metadata": {},
   "outputs": [],
   "source": [
    "import os\n",
    "from modules.index.prompt import get_vlm_prompt\n",
    "from dashscope import MultiModalConversation\n",
    "\n",
    "item = {\n",
    "        \"type\": \"image\",\n",
    "        \"img_path\": \"images/1af4c12c4bd759852b27475d9017cf36af189961f417c0b33be7289a2d39113f.jpg\",\n",
    "        \"image_caption\": [\n",
    "            \"图35：低温鲜奶市场竞争格局较分散\"\n",
    "        ],\n",
    "        \"image_footnote\": [],\n",
    "        \"page_idx\": 19,\n",
    "        \"filename\": \"伊利股份-公司研究报告-平台化的乳企龙头引领行业高质量转型-25071638页.pdf\",\n",
    "    }\n",
    "\n",
    "prompt = get_vlm_prompt(item)\n",
    "response = MultiModalConversation.call(\n",
    "    api_key=os.getenv('BL_API_KEY'),\n",
    "    model='qwen-vl-max-2025-08-13',\n",
    "    messages=prompt,\n",
    "    vl_high_resolution_images=True  # 启用高分辨率图像理解，图像将被编码为更多的 token\n",
    ")"
   ]
  },
  {
   "cell_type": "code",
   "execution_count": 4,
   "id": "35a458c0",
   "metadata": {},
   "outputs": [
    {
     "name": "stdout",
     "output_type": "stream",
     "text": [
      "标题“图35：低温鲜奶市场竞争格局较分散”的柱状图显示，2015年至2024年期间，中国低温鲜奶市场的市场份额在多个品牌之间分布较为分散，未出现一家企业占据绝对主导地位。\n",
      "\n",
      "具体来看，各主要品牌的市场份额变化如下：\n",
      "\n",
      "- **伊利**（红色）：从2015年的4.7%稳步增长至2024年的5.4%，保持相对稳定。\n",
      "- **光明**（深蓝色）：市场份额从2015年的21.9%波动上升至2024年的18.5%，整体呈小幅下降趋势。\n",
      "- **蒙牛**（中蓝色）：从2015年的5.6%逐步提升至2024年的12.6%，是增长较快的品牌之一。\n",
      "- **新希望**（浅蓝色）：从2015年的9.3%微降至2024年的8.7%。\n",
      "- **三元**（浅灰蓝）：从2015年的5.8%增长至2024年的6.3%，略有上升。\n",
      "- **君乐宝**（淡蓝）：从2015年的5.2%持续增长至2024年的5.6%，表现稳健。\n",
      "- **南京奶业**（灰白）：从2015年的5.8%增长至2024年的4.1%，有所下滑。\n",
      "- **佳宝**（最浅蓝）：从2015年的5.8%增长至2024年的5.6%，基本持平。\n",
      "\n",
      "总体而言，市场集中度不高，前几大品牌合计份额未超过50%，表明低温鲜奶市场竞争激烈且格局分散。其中，**蒙牛和光明**为市场份额较高的两个品牌，但均未形成垄断；而**伊利、新希望、三元、君乐宝**等也在持续争夺市场空间。\n"
     ]
    }
   ],
   "source": [
    "print(response[\"output\"][\"choices\"][0][\"message\"].content[0][\"text\"])"
   ]
  },
  {
   "cell_type": "code",
   "execution_count": 10,
   "id": "c4744795",
   "metadata": {},
   "outputs": [
    {
     "name": "stdout",
     "output_type": "stream",
     "text": [
      "标题“图35：低温鲜奶市场竞争格局较分散”所对应的图表是一张**堆叠柱状图**，展示了2015年至2024年（其中2024年为预测数据）中国低温鲜奶市场的**市场份额分布情况**。该图通过不同颜色的堆叠条形，直观呈现了各主要乳制品企业在这一细分市场中的份额变化趋势。\n",
      "\n",
      "### 图表结构与内容描述：\n",
      "\n",
      "- **横轴（X轴）**：表示年份，从2015年到2024年，共10个年度。\n",
      "- **纵轴（Y轴）**：表示市场份额百分比，范围从0%到100%，以10%为单位进行刻度划分。\n",
      "- **堆叠柱状图**：每个年度对应一个总高度为100%的柱子，由多个颜色区块叠加而成，每种颜色代表一家企业，其在柱子中所占的高度即为其当年的市场份额。\n",
      "- **图例说明**（位于底部）：\n",
      "  - 红色：伊利\n",
      "  - 深蓝色：光明\n",
      "  - 蓝色：蒙牛\n",
      "  - 浅蓝色：新希望\n",
      "  - 青色：三元\n",
      "  - 淡蓝灰色：君乐宝\n",
      "  - 淡灰蓝：南京奶业\n",
      "  - 浅灰白：佳宝\n",
      "\n",
      "---\n",
      "\n",
      "### 各企业市场份额趋势分析：\n",
      "\n",
      "#### 1. **伊利**（红色）\n",
      "- 市场份额长期稳定在**4.7%~5.4%**之间。\n",
      "- 2015年为4.7%，之后基本维持在4.8%左右，2021年略有上升至5%，2023年和2024年保持在5.4%。\n",
      "- 虽然体量不大，但相对稳定，是低温鲜奶市场的重要参与者之一。\n",
      "\n",
      "#### 2. **光明**（深蓝色）\n",
      "- 是市场份额最大的企业之一，从2015年的21.9%稳步增长至2021年的21.8%，随后在2022年达到峰值**22.1%**，2023年小幅回落至20.3%，2024年预计回升至**18.5%**。\n",
      "- 表现出较强的区域优势和品牌影响力，尤其在华东地区具有较强竞争力。\n",
      "\n",
      "#### 3. **蒙牛**（蓝色）\n",
      "- 市场份额持续上升，从2015年的5.6%增长至2024年的**12.6%**。\n",
      "- 在2020年后增速明显，2021年突破10%（达10.8%），2022年达12.7%，2023年略降后2024年仍保持高位。\n",
      "- 显示出蒙牛在低温鲜奶领域的快速扩张策略。\n",
      "\n",
      "#### 4. **新希望**（浅蓝色）\n",
      "- 市场份额波动较小，总体在**5.6%~6.3%**之间。\n",
      "- 2015年为5.8%，2023年升至6.3%，2024年略降至5.6%。\n",
      "- 属于稳健型选手，市场地位较为稳固。\n",
      "\n",
      "#### 5. **三元**（青色）\n",
      "- 市场份额整体呈下降趋势，从2015年的9.3%逐步下滑至2024年的**8.7%**。\n",
      "- 2019年曾一度升至9.9%，但此后逐渐被其他品牌蚕食。\n",
      "- 作为北京本地强势品牌，但全国化拓展面临挑战。\n",
      "\n",
      "#### 6. **君乐宝**（淡蓝灰色）\n",
      "- 市场份额从2015年的5.2%缓慢增长，2020年达6.1%，2021年升至6.3%，2022年达**6.3%**，2023年为6%，2024年回升至**6.3%**。\n",
      "- 增长平稳，显示出其在低温奶领域的持续投入。\n",
      "\n",
      "#### 7. **南京奶业**（淡灰蓝）\n",
      "- 市场份额较低且波动较大，从2015年的0.3%增长至2020年的1.1%，2021年达1.8%，2022年升至3.9%，2023年达6%，2024年预计为**8.7%**。\n",
      "- 近几年增长迅猛，可能得益于区域深耕或产品创新，成为黑马企业。\n",
      "\n",
      "#### 8. **佳宝**（浅灰白）\n",
      "- 市场份额最低，始终在**4%以下**，2015年为4.2%，2024年为4%。\n",
      "- 多年来表现平平，未有显著增长。\n",
      "\n",
      "---\n",
      "\n",
      "### 总体市场格局特点：\n",
      "\n",
      "- **市场集中度不高**：前三大企业（光明、蒙牛、伊利）合计市场份额虽接近40%，但无绝对龙头，表明市场**竞争激烈且分散**。\n",
      "- **区域性品牌仍有竞争力**：如三元（北京）、光明（华东）、南京奶业（华东/江苏）等均凭借本地优势占据一定份额。\n",
      "- **新兴品牌崛起**：南京奶业近年来快速增长，显示出区域品牌通过差异化策略实现突破的可能性。\n",
      "- **头部企业扩张明显**：蒙牛、君乐宝、光明等企业持续扩大低温鲜奶布局，推动市场格局演变。\n",
      "\n",
      "---\n",
      "\n",
      "### 结论：\n",
      "\n",
      "该图表清晰地反映了中国低温鲜奶市场“**多强并立、群雄逐鹿**”的竞争格局。尽管光明目前仍居领先地位，但蒙牛、新希望、君乐宝及南京奶业等企业正加速追赶，市场进入动态调整期。整体来看，低温鲜奶市场尚未形成垄断，未来仍存在较大的整合与竞争空间。\n"
     ]
    }
   ],
   "source": [
    "print(response[\"output\"][\"choices\"][0][\"message\"].content[0][\"text\"])"
   ]
  },
  {
   "cell_type": "code",
   "execution_count": 13,
   "id": "35e38e57",
   "metadata": {},
   "outputs": [
    {
     "data": {
      "image/jpeg": "[encoded data removed]",
      "text/plain": [
       "<IPython.core.display.Image object>"
      ]
     },
     "metadata": {},
     "output_type": "display_data"
    }
   ],
   "source": [
    "from IPython.display import Image, display\n",
    "\n",
    "local_path = f'C:/Users/Lenovo/Desktop/MRAG/output/{item[\"filename\"].split(\".\")[0]}/auto/{item[\"img_path\"]}'\n",
    "img_path = f'file://{local_path}'\n",
    "\n",
    "# 显示图像\n",
    "display(Image(filename=local_path))"
   ]
  },
  {
   "cell_type": "markdown",
   "id": "7143f66c",
   "metadata": {},
   "source": [
    "测试 table to text"
   ]
  },
  {
   "cell_type": "code",
   "execution_count": 1,
   "id": "d3d2c81c",
   "metadata": {},
   "outputs": [],
   "source": [
    "from langchain_openai import ChatOpenAI\n",
    "import os\n",
    "from dotenv import load_dotenv\n",
    "\n",
    "load_dotenv()\n",
    "\n",
    "_llm = ChatOpenAI(\n",
    "        api_key=os.getenv(\"BL_API_KEY\"),\n",
    "        base_url=os.getenv(\"BL_BASE_URL\"),\n",
    "        model='qwen-plus-latest',\n",
    "        temperature=0.0\n",
    ")"
   ]
  },
  {
   "cell_type": "code",
   "execution_count": 2,
   "id": "2a0a155c",
   "metadata": {},
   "outputs": [],
   "source": [
    "import sys\n",
    "\n",
    "sys.path.append('../../')"
   ]
  },
  {
   "cell_type": "code",
   "execution_count": 3,
   "id": "f67c851b",
   "metadata": {},
   "outputs": [],
   "source": [
    "import os\n",
    "from modules.index.prompt import get_llm_prompt\n",
    "\n",
    "\n",
    "item = {\n",
    "        \"type\": \"table\",\n",
    "        \"img_path\": \"images/b3eef2d56606af7596f232048d2ce4b0fb34a3e1db530e6d0e11e11ad8f828ca.jpg\",\n",
    "        \"table_caption\": [\n",
    "            \"表9：绝对估值相对折现率和永续增长率的敏感性分析（元）\"\n",
    "        ],\n",
    "        \"table_footnote\": [\n",
    "            \"资料来源：国信证券经济研究所分析\"\n",
    "        ],\n",
    "        \"table_body\": \"<table><tr><td colspan=\\\"2\\\"></td><td colspan=\\\"4\\\">WACC变化</td></tr><tr><td colspan=\\\"2\\\"></td><td>7.70% 7.80%</td><td>7.90%</td><td>8.00%</td><td>8.10%</td></tr><tr><td rowspan=\\\"7\\\">永续 增长 率变 化</td><td>2.1% 35.83</td><td>34.96</td><td>34.13</td><td>33.32</td><td>32.54</td></tr><tr><td>2.0%</td><td>35.29</td><td>34.45 33.63</td><td>32.84</td><td>32.08</td></tr><tr><td>1.9%</td><td>34.77</td><td>33.95</td><td>33.15</td><td>32.38 31.64</td></tr><tr><td>1.8%</td><td>34.26</td><td>33.46</td><td>32.69 31.94</td><td>31.21</td></tr><tr><td>1.7%</td><td>33.77</td><td>32.99</td><td>32.24 31.51</td><td>30.80</td></tr><tr><td>1.6%</td><td>33.30</td><td>32.54</td><td>31.80 31.09</td><td>30.40</td></tr><tr><td>1.5%</td><td>32.85</td><td>32.10 31.38</td><td>30.68</td><td>30.01</td></tr></table>\",\n",
    "        \"page_idx\": 30,\n",
    "        \"filename\": \"伊利股份-公司研究报告-平台化的乳企龙头引领行业高质量转型-25071638页.pdf\",\n",
    "    }\n",
    "\n",
    "prompt = get_llm_prompt(item)\n",
    "response = _llm.invoke(prompt)"
   ]
  },
  {
   "cell_type": "code",
   "execution_count": 5,
   "id": "71fe4437",
   "metadata": {},
   "outputs": [
    {
     "name": "stdout",
     "output_type": "stream",
     "text": [
      "[SystemMessage(content='你是一名专业的证券分析师，专注于从证券研究报告的HTML表格中提取关键信息。当用户提供HTML格式的表格时，必须生成精确、简洁的表格内容总结，仅基于表格可见内容。总结需严格遵循以下规则：\\n\\n## 1. 表格类型识别与上下文理解\\n- 首先判断表格类型：财务数据表、产品管线表、市场份额表、集采数据表、预测估值表等\\n- 识别表格所属的研究场景（如公司财务表现、产品研发进展、市场格局分析等）\\n- 示例：\"标题\\'收入拆分\\'的财务预测表显示：...\"\\n\\n## 2. 关键信息提取规则（按表格类型）\\n- **财务数据表**：\\n  * 提取关键财务指标（营业收入、净利润、毛利率等）及最新数据\\n  * 关注增长率、同比变化及异常波动\\n  * 必须包含单位（亿元/百万元）和时间范围\\n  * 示例：\"2024年营业收入137.59亿元，同比增长0.03%；净利润26.60亿元，同比下降1.54%\"\\n\\n- **产品管线表**：\\n  * 提取药物名称、适应症、研发阶段（临床1/2/3期）、重要里程碑\\n  * 关注关键时间节点和合作信息（如BD协议）\\n  * 示例：\"UBT251为GLP-1/GIP/GCGR三靶点减重药物，减重、CKD和MAFLD适应症处于临床2期，2025年2月与诺和诺德达成2亿美元首付款、总金额20亿美元的BD\"\\n\\n- **市场份额/集采数据表**：\\n  * 提取关键市场份额数据、排名变化、主要竞争对手\\n  * 关注集采中标情况、价格变化及影响\\n  * 示例：\"2024年胰岛素集采中，国产企业份额提升至45%，联邦制药6款产品全部以A组中标，平均降幅-17%\"\\n\\n- **预测估值表**：\\n  * 提取关键预测数据（收入、利润、PE/PB等）及时间范围\\n  * 关注与可比公司的估值差异\\n  * 示例：\"预计2025-2027年营业收入为138.6/150.0/162.6亿元，对应增速0.7%/8.2%/8.4%；净利润31.1/31.0/33.8亿元，对应PE为8/8/7倍\"\\n\\n## 3. 输出格式要求\\n- 纯文本段落，无HTML标签\\n- 保持专业、简洁，仅陈述事实（避免\"可能\"\"应该\"等推测）\\n- 必须包含表格标题（从HTML中提取）\\n- 结构：`[标题]的[表格类型]显示[关键信息]，[趋势/比较说明]。`\\n- 优先提取与公司业务、产品研发、财务表现相关的核心数据\\n- 示例：\"标题\\'UBT-251减重适应症国内峰值测算\\'的预测表显示：UBT251减重适应症国内销售峰值在2032年达43亿元，经研发风险系数调整后销售额为21.5亿元。\"\\n\\n## 4. 特别注意事项\\n- 此类研究报告表格包含多维度数据，需识别主次信息，聚焦关键指标\\n- 对比数据需明确比较对象（如\"较2023年增长X%\"、\"较行业平均高Y%\"）\\n- 保留精确数值，但可简化次要数据（如\"毛利率44.21%\"而非\"44.2135%\"）\\n- 避免过度解读，仅基于表格可见内容总结\\n- 对于大型表格，优先提取最新、最重要的3-5个数据点\\n\\n此总结将用于多模态RAG系统，请确保信息可直接用于检索和答案生成，特别适合回答关于公司财务表现、产品研发进展和市场地位的问题。', additional_kwargs={}, response_metadata={}), HumanMessage(content='表格的标题为: 表9：绝对估值相对折现率和永续增长率的敏感性分析（元）\\n表格内容为：<table><tr><td colspan=\"2\"></td><td colspan=\"4\">WACC变化</td></tr><tr><td colspan=\"2\"></td><td>7.70% 7.80%</td><td>7.90%</td><td>8.00%</td><td>8.10%</td></tr><tr><td rowspan=\"7\">永续 增长 率变 化</td><td>2.1% 35.83</td><td>34.96</td><td>34.13</td><td>33.32</td><td>32.54</td></tr><tr><td>2.0%</td><td>35.29</td><td>34.45 33.63</td><td>32.84</td><td>32.08</td></tr><tr><td>1.9%</td><td>34.77</td><td>33.95</td><td>33.15</td><td>32.38 31.64</td></tr><tr><td>1.8%</td><td>34.26</td><td>33.46</td><td>32.69 31.94</td><td>31.21</td></tr><tr><td>1.7%</td><td>33.77</td><td>32.99</td><td>32.24 31.51</td><td>30.80</td></tr><tr><td>1.6%</td><td>33.30</td><td>32.54</td><td>31.80 31.09</td><td>30.40</td></tr><tr><td>1.5%</td><td>32.85</td><td>32.10 31.38</td><td>30.68</td><td>30.01</td></tr></table>\\n请详细描述这张表格的内容', additional_kwargs={}, response_metadata={})]\n"
     ]
    }
   ],
   "source": [
    "print(prompt)"
   ]
  },
  {
   "cell_type": "code",
   "execution_count": 6,
   "id": "c203c122",
   "metadata": {},
   "outputs": [
    {
     "data": {
      "text/plain": [
       "AIMessage(content='这张表格的标题为：**表9：绝对估值相对折现率和永续增长率的敏感性分析（元）**，其目的是展示在不同**加权平均资本成本**（WACC）和不同**永续增长率**假设下，公司或资产的**绝对估值结果**（单位为“元”）如何变化。这是一种常见的**估值敏感性分析**，用于评估估值对关键假设的敏感程度。\\n\\n---\\n\\n### 一、表格结构解析\\n\\n#### 1. **列标题：WACC变化**\\n- 表格横向展示了不同 **WACC（折现率）** 的取值：\\n  - 7.70%\\n  - 7.80%\\n  - 7.90%\\n  - 8.00%\\n  - 8.10%\\n- WACC 是估值模型中的核心参数，代表资本成本，数值越高，未来现金流折现后的现值越低，因此估值通常随 WACC 上升而下降。\\n\\n#### 2. **行标题：永续增长率变化**\\n- 表格纵向展示了不同的 **永续增长率**（Terminal Growth Rate）假设：\\n  - 从 2.1% 到 1.5%，以 0.1% 为间隔递减。\\n- 永续增长率代表企业在预测期后长期稳定增长的速度，增长率越高，终值越大，整体估值也越高。\\n\\n#### 3. **数据单元格：估值结果（单位：元）**\\n- 每个交叉点上的数值表示在对应 **WACC** 和 **永续增长率** 组合下的**每股估值**（或企业价值，单位为“元”）。\\n- 例如，在 WACC = 7.70%、永续增长率为 2.1% 时，估值为 **35.83 元**。\\n\\n---\\n\\n### 二、完整数据整理（修正原始HTML中错位问题）\\n\\n原始表格存在数据错位和合并单元格导致的混乱，以下为**重新整理后的清晰表格**：\\n\\n| 永续增长率 | WACC = 7.70% | WACC = 7.80% | WACC = 7.90% | WACC = 8.00% | WACC = 8.10% |\\n|------------|---------------|---------------|---------------|---------------|---------------|\\n| **2.1%**   | 35.83         | 34.96         | 34.13         | 33.32         | 32.54         |\\n| **2.0%**   | 35.29         | 34.45         | 33.63         | 32.84         | 32.08         |\\n| **1.9%**   | 34.77         | 33.95         | 33.15         | 32.38         | 31.64         |\\n| **1.8%**   | 34.26         | 33.46         | 32.69         | 31.94         | 31.21         |\\n| **1.7%**   | 33.77         | 32.99         | 32.24         | 31.51         | 30.80         |\\n| **1.6%**   | 33.30         | 32.54         | 31.80         | 31.09         | 30.40         |\\n| **1.5%**   | 32.85         | 32.10         | 31.38         | 30.68         | 30.01         |\\n\\n> 注：原始HTML中部分数据粘连（如“34.45 33.63”），已根据上下文和规律拆分并校正。\\n\\n---\\n\\n### 三、关键观察与趋势分析\\n\\n#### 1. **估值随 WACC 增加而下降**\\n- 在任一固定的永续增长率下，随着 WACC 上升（从 7.70% 到 8.10%），估值持续下降。\\n- 例如，当永续增长率为 2.0%：\\n  - WACC=7.70% → 估值 35.29 元\\n  - WACC=8.10% → 估值 32.08 元\\n  - 下降幅度：约 9%\\n\\n#### 2. **估值随永续增长率提高而上升**\\n- 在任一固定的 WACC 下，随着永续增长率上升，估值显著上升。\\n- 例如，当 WACC = 8.00%：\\n  - 永续增长率从 1.5% 提高到 2.1% → 估值从 30.68 元升至 33.32 元\\n  - 增幅约 8.6%\\n\\n#### 3. **敏感性对比**\\n- **永续增长率** 和 **WACC** 都对估值有显著影响，但：\\n  - 小幅变动（如 ±0.1%）都会引起估值变化 0.5~1 元以上。\\n  - 说明估值对这两个参数高度敏感，需谨慎选择假设值。\\n\\n#### 4. **中间情景参考**\\n- 若采用中性假设：WACC = 7.90%，永续增长率 = 1.9%\\n  - 估值为 **33.15 元**\\n- 这可能是分析师推荐的“基准情景”估值。\\n\\n---\\n\\n### 四、实际应用意义\\n\\n1. **风险评估**：\\n   - 若实际资本成本高于预期（如市场利率上升），估值可能大幅下调。\\n   - 若企业长期增长潜力被高估，也可能导致估值虚高。\\n\\n2. **投资决策支持**：\\n   - 当前股价若显著低于敏感性区间最低值（如 <30 元），可能被低估；\\n   - 若高于最高值（如 >35 元），则可能高估。\\n\\n3. **报告透明度提升**：\\n   - 提供敏感性分析可增强估值的可信度，表明分析师已考虑多种可能性。\\n\\n---\\n\\n### 五、总结\\n\\n该表格通过构建 **WACC 与永续增长率的双变量敏感性矩阵**，系统展示了估值结果在不同关键假设下的波动范围：\\n\\n- **最高估值**：35.83 元（WACC=7.70%，g=2.1%）\\n- **最低估值**：30.01 元（WACC=8.10%，g=1.5%）\\n- **估值区间跨度**：约 5.8 元，显示模型对输入参数极为敏感。\\n\\n因此，在使用此类估值时，应结合企业基本面、行业趋势和宏观经济环境，合理设定 WACC 与永续增长率，并重点关注**基准情景**及其合理性。', additional_kwargs={'refusal': None}, response_metadata={'token_usage': {'completion_tokens': 1551, 'prompt_tokens': 1422, 'total_tokens': 2973, 'completion_tokens_details': None, 'prompt_tokens_details': None}, 'model_name': 'qwen-plus-latest', 'system_fingerprint': None, 'finish_reason': 'stop', 'logprobs': None}, id='run-5dd21558-4809-41de-9fc6-dac203a93b0d-0', usage_metadata={'input_tokens': 1422, 'output_tokens': 1551, 'total_tokens': 2973, 'input_token_details': {}, 'output_token_details': {}})"
      ]
     },
     "execution_count": 6,
     "metadata": {},
     "output_type": "execute_result"
    }
   ],
   "source": [
    "response"
   ]
  },
  {
   "cell_type": "code",
   "execution_count": 11,
   "id": "0ae7cc4a",
   "metadata": {},
   "outputs": [
    {
     "data": {
      "text/plain": [
       "AIMessage(content='表9：绝对估值相对折现率和永续增长率的敏感性分析（元）显示了在不同WACC（加权平均资本成本）和永续增长率假设下，公司估值的变化情况。具体数据如下：\\n\\n- 当永续增长率为 **2.1%** 时，随着WACC从7.70%上升至8.10%，估值从 **35.83元** 下降至 **32.54元**。\\n- 当永续增长率为 **2.0%** 时，估值从 **35.29元**（WACC 7.70%）降至 **32.08元**（WACC 8.10%）。\\n- 当永续增长率为 **1.9%** 时，估值由 **34.77元** 降至 **31.64元**。\\n- 当永续增长率为 **1.8%** 时，估值由 **34.26元** 降至 **31.21元**。\\n- 当永续增长率为 **1.7%** 时，估值由 **33.77元** 降至 **30.80元**。\\n- 当永续增长率为 **1.6%** 时，估值由 **33.30元** 降至 **30.40元**。\\n- 当永续增长率为 **1.5%** 时，估值由 **32.85元** 降至 **30.01元**。\\n\\n总体来看，估值与永续增长率正相关，与WACC负相关。在WACC为7.70%、永续增长率为2.1%时达到最高估值35.83元；在WACC为8.10%、永续增长率为1.5%时为最低估值30.01元。该表可用于评估关键假设变动对估值的敏感性。', additional_kwargs={'refusal': None}, response_metadata={'token_usage': {'completion_tokens': 424, 'prompt_tokens': 1416, 'total_tokens': 1840, 'completion_tokens_details': None, 'prompt_tokens_details': None}, 'model_name': 'qwen-plus-latest', 'system_fingerprint': None, 'finish_reason': 'stop', 'logprobs': None}, id='run-6c6aa698-1587-451f-942a-df8b5536d088-0', usage_metadata={'input_tokens': 1416, 'output_tokens': 424, 'total_tokens': 1840, 'input_token_details': {}, 'output_token_details': {}})"
      ]
     },
     "execution_count": 11,
     "metadata": {},
     "output_type": "execute_result"
    }
   ],
   "source": [
    "response"
   ]
  },
  {
   "cell_type": "code",
   "execution_count": 12,
   "id": "93929fa0",
   "metadata": {},
   "outputs": [
    {
     "data": {
      "text/plain": [
       "'表9：绝对估值相对折现率和永续增长率的敏感性分析（元）显示了在不同WACC（加权平均资本成本）和永续增长率假设下，公司估值的变化情况。具体数据如下：\\n\\n- 当永续增长率为 **2.1%** 时，随着WACC从7.70%上升至8.10%，估值从 **35.83元** 下降至 **32.54元**。\\n- 当永续增长率为 **2.0%** 时，估值从 **35.29元**（WACC 7.70%）降至 **32.08元**（WACC 8.10%）。\\n- 当永续增长率为 **1.9%** 时，估值由 **34.77元** 降至 **31.64元**。\\n- 当永续增长率为 **1.8%** 时，估值由 **34.26元** 降至 **31.21元**。\\n- 当永续增长率为 **1.7%** 时，估值由 **33.77元** 降至 **30.80元**。\\n- 当永续增长率为 **1.6%** 时，估值由 **33.30元** 降至 **30.40元**。\\n- 当永续增长率为 **1.5%** 时，估值由 **32.85元** 降至 **30.01元**。\\n\\n总体来看，估值与永续增长率正相关，与WACC负相关。在WACC为7.70%、永续增长率为2.1%时达到最高估值35.83元；在WACC为8.10%、永续增长率为1.5%时为最低估值30.01元。该表可用于评估关键假设变动对估值的敏感性。'"
      ]
     },
     "execution_count": 12,
     "metadata": {},
     "output_type": "execute_result"
    }
   ],
   "source": [
    "response.content"
   ]
  },
  {
   "cell_type": "code",
   "execution_count": 7,
   "id": "d728c1e5",
   "metadata": {},
   "outputs": [],
   "source": [
    "# 刚才在嵌入的时候搞错了，搞的只是单密集嵌入"
   ]
  },
  {
   "cell_type": "code",
   "execution_count": 8,
   "id": "080ea312",
   "metadata": {},
   "outputs": [],
   "source": [
    "import sys\n",
    "\n",
    "sys.path.append('../../')"
   ]
  },
  {
   "cell_type": "code",
   "execution_count": 11,
   "id": "4759ddf2",
   "metadata": {},
   "outputs": [],
   "source": [
    "from langchain_openai import OpenAIEmbeddings\n",
    "\n",
    "_embed_model = OpenAIEmbeddings(\n",
    "        api_key=os.getenv(\"BL_API_KEY\"),\n",
    "        base_url=os.getenv(\"BL_BASE_URL\"),\n",
    "        model=\"text-embedding-v4\",\n",
    "        dimensions=1024,\n",
    "        check_embedding_ctx_length=False\n",
    ")"
   ]
  },
  {
   "cell_type": "code",
   "execution_count": null,
   "id": "3bedec79",
   "metadata": {},
   "outputs": [],
   "source": [
    "# 创建一个向量数据库\n",
    "from langchain_milvus import Milvus, BM25BuiltInFunction\n",
    "\n",
    "\n",
    "# 定义向量场的索引参数\n",
    "dense_index_parma = {\n",
    "    \"metric_type\": \"L2\",\n",
    "    \"index_type\": \"HNSW\",\n",
    "    \"params\": {\n",
    "        \"M\": 64,\n",
    "        \"efConstruction\": 400\n",
    "    }\n",
    "}\n",
    "sparse_index_param = {\n",
    "    \"metric_type\": \"BM25\",\n",
    "    \"index_type\": \"AUTOINDEX\",\n",
    "    \"params\": {}\n",
    "}\n",
    "vector_store = Milvus(\n",
    "    collection_name='mrag',\n",
    "    embedding_function=_embed_model,\n",
    "    builtin_function=BM25BuiltInFunction(output_field_names='sparse'),\n",
    "    vector_field=['dense', 'sparse'],\n",
    "    index_params=[dense_index_parma, sparse_index_param]  # 顺序关系是对应的\n",
    ")"
   ]
  },
  {
   "cell_type": "code",
   "execution_count": 29,
   "id": "f8e713d5",
   "metadata": {},
   "outputs": [
    {
     "name": "stderr",
     "output_type": "stream",
     "text": [
      "\u001b[32m2025-08-25 01:15:44.266\u001b[0m | \u001b[1mINFO    \u001b[0m | \u001b[36mmodules.index.index\u001b[0m:\u001b[36mdocuments_json_to_documents\u001b[0m:\u001b[36m295\u001b[0m - \u001b[1m--- documents_json_to_documents ---\u001b[0m\n",
      "\u001b[32m2025-08-25 01:15:44.267\u001b[0m | \u001b[1mINFO    \u001b[0m | \u001b[36mmodules.index.index\u001b[0m:\u001b[36mdocuments_to_chunks\u001b[0m:\u001b[36m320\u001b[0m - \u001b[1m--- documents_to_chunks ---\u001b[0m\n"
     ]
    }
   ],
   "source": [
    "# 加载嵌入数据\n",
    "from modules.index.index import Index\n",
    "import json\n",
    "\n",
    "file_path = '../../output/极兔速递W-港股公司研究报告-系列一东南亚十年磨砺终成锋产业经营双拐点-25070834页/documents.json'\n",
    "documents_json = []\n",
    "with open(file_path, 'r', encoding='utf-8') as f:\n",
    "    documents_json = json.load(f)\n",
    "\n",
    "documnts = Index.documents_json_to_documents(documents_json)\n",
    "chunks  = Index.documents_to_chunks(documnts, chunk_size=700, chunk_overlap=50)"
   ]
  },
  {
   "cell_type": "code",
   "execution_count": 30,
   "id": "a0bb124d",
   "metadata": {},
   "outputs": [
    {
     "data": {
      "text/plain": [
       "259"
      ]
     },
     "execution_count": 30,
     "metadata": {},
     "output_type": "execute_result"
    }
   ],
   "source": [
    "len(chunks)"
   ]
  },
  {
   "cell_type": "code",
   "execution_count": 16,
   "id": "dcbe0cf5",
   "metadata": {},
   "outputs": [
    {
     "name": "stderr",
     "output_type": "stream",
     "text": [
      "\u001b[32m2025-08-25 00:04:46.450\u001b[0m | \u001b[1mINFO    \u001b[0m | \u001b[36mmodules.index.index\u001b[0m:\u001b[36mdocuments_json_to_documents\u001b[0m:\u001b[36m295\u001b[0m - \u001b[1m--- documents_json_to_documents ---\u001b[0m\n",
      "\u001b[32m2025-08-25 00:04:46.452\u001b[0m | \u001b[1mINFO    \u001b[0m | \u001b[36mmodules.index.index\u001b[0m:\u001b[36mdocuments_to_chunks\u001b[0m:\u001b[36m320\u001b[0m - \u001b[1m--- documents_to_chunks ---\u001b[0m\n"
     ]
    }
   ],
   "source": [
    "# 加载嵌入数据\n",
    "from modules.index.index import Index\n",
    "import json\n",
    "\n",
    "file_path = '../../output/联邦制药-港股公司研究报告-创新突破三靶点战略联姻诺和诺德-25071225页/documents.json'\n",
    "documents_json = []\n",
    "with open(file_path, 'r', encoding='utf-8') as f:\n",
    "    documents_json = json.load(f)\n",
    "\n",
    "documnts = Index.documents_json_to_documents(documents_json)\n",
    "chunks  = Index.documents_to_chunks(documnts, chunk_size=700, chunk_overlap=50)"
   ]
  },
  {
   "cell_type": "code",
   "execution_count": 17,
   "id": "4edc7f68",
   "metadata": {},
   "outputs": [
    {
     "data": {
      "text/plain": [
       "142"
      ]
     },
     "execution_count": 17,
     "metadata": {},
     "output_type": "execute_result"
    }
   ],
   "source": [
    "len(chunks)"
   ]
  },
  {
   "cell_type": "code",
   "execution_count": 31,
   "id": "469d0658",
   "metadata": {},
   "outputs": [
    {
     "data": {
      "text/plain": [
       "Document(metadata={'filename': '极兔速递W-港股公司研究报告-系列一东南亚十年磨砺终成锋产业经营双拐点-25070834页.pdf', 'page': 0, 'type': 'table', 'img_path': 'images/b4b7fbcf8ef10d7f808a38f7ca91eadd893dfff18d8adc594030822dc81af0ef.jpg', 'table_body': '<table><tr><td>单位：美元百万元</td><td>2023A</td><td>2024A</td><td>2025E</td><td>2026E</td><td>2027E</td></tr><tr><td>主营收入</td><td>8,849</td><td>10,259</td><td>11,795</td><td>13,477</td><td>15,217</td></tr><tr><td>增长率 (%)</td><td>21.8%</td><td>15.9%</td><td>15.0%</td><td>14.3%</td><td>12.9%</td></tr><tr><td>EBITDA</td><td>-1,284</td><td>688</td><td>994</td><td>1,237</td><td>1,490</td></tr><tr><td>归母净利润</td><td>-1,101</td><td>101</td><td>334</td><td>530</td><td>729</td></tr><tr><td>增长率(%)</td><td>-166.5%</td><td>-109.1%</td><td>232.5%</td><td>58.4%</td><td>37.5%</td></tr><tr><td>EPS（元/股）</td><td>-0.12</td><td>0.01</td><td>0.04</td><td>0.06</td><td>0.08</td></tr><tr><td>市盈率(P/E)</td><td>-</td><td>69.1</td><td>26.4</td><td>16.6</td><td>12.1</td></tr><tr><td>ROE（%）</td><td>-46.6%</td><td>4.5%</td><td>10.9%</td><td>14.7%</td><td>16.8%</td></tr><tr><td>EV/EBITDA</td><td></td><td>10.1</td><td>8.2</td><td>6.3</td><td>4.8</td></tr></table>', 'start_index': 0}, page_content='该表格标题为“**盈利预测**”，主要展示了某公司在2023年至2027年期间的财务表现及关键估值指标，涵盖实际数据（2023A、2024A）和未来预测数据（2025E、2026E、2027E），单位为**美元百万元**（即百万美元）。以下是对表格内容的详细解读：\\n\\n---\\n\\n### 一、主营业务收入（主营收入）\\n- **2023年（实际）**：8,849 百万美元（约88.49亿美元）\\n- **2024年（实际）**：10,259 百万美元（+15.9%）\\n- **2025年（预测）**：11,795 百万美元（+15.0%）\\n- **2026年（预测）**：13,477 百万美元（+14.3%）\\n- **2027年（预测）**：15,217 百万美元（+12.9%）\\n\\n> **趋势分析**：公司主营收入持续增长，增速从2024年的15.9%逐步放缓至2027年的12.9%，但整体保持稳健增长态势，五年复合增长率较高。\\n\\n---\\n\\n### 二、收入增长率（增长率 %）\\n- 2023年：+21.8%\\n- 2024年：+15.9%\\n- 2025年：+15.0%\\n- 2026年：+14.3%\\n- 2027年：+12.9%\\n\\n> **说明**：收入增速虽略有下降趋势，但仍维持在12%以上，显示公司业务具备较强的持续扩张能力。\\n\\n---')"
      ]
     },
     "execution_count": 31,
     "metadata": {},
     "output_type": "execute_result"
    }
   ],
   "source": [
    "chunks[0]"
   ]
  },
  {
   "cell_type": "code",
   "execution_count": 32,
   "id": "fd34dc6b",
   "metadata": {},
   "outputs": [
    {
     "name": "stderr",
     "output_type": "stream",
     "text": [
      "处理文件 : 100%|██████████| 26/26 [00:19<00:00,  1.36it/s]\n"
     ]
    }
   ],
   "source": [
    "# 存入向量数据库\n",
    "from tqdm import tqdm\n",
    "from uuid import uuid4\n",
    "\n",
    "for i in tqdm(range(0, len(chunks), 10), desc=f'处理文件 '):\n",
    "    cur_chunks = chunks[i:i + 10]\n",
    "    vector_store.add_documents(\n",
    "        documents=cur_chunks,\n",
    "        ids=[str(uuid4()) for _ in range(len(cur_chunks))]\n",
    "    )"
   ]
  },
  {
   "cell_type": "code",
   "execution_count": 18,
   "id": "c7019078",
   "metadata": {},
   "outputs": [
    {
     "data": {
      "text/plain": [
       "Document(metadata={'filename': '联邦制药-港股公司研究报告-创新突破三靶点战略联姻诺和诺德-25071225页.pdf', 'page': 0, 'type': 'image', 'img_path': 'images/e5bd8a90d026f995aca3b4e5ebb57ec126913258c5aacacf24f6d7097ff63d85.jpg', 'table_body': 'None', 'start_index': 0}, page_content='标题为“股价走势”的图表显示了两条曲线，分别代表“联邦制药”和“恒生指数”在2024年7月12日至2025年7月10日期间的股价或指数变化趋势。以下是详细描述：\\n\\n- **时间范围**：横轴表示时间，从2024年7月12日开始，到2025年7月10日结束，覆盖约一年的时间跨度。\\n- **纵轴**：表示百分比变化，从-9%到111%，反映了股价或指数相对于某个基准点（可能是起始值）的涨跌幅。\\n- **两条曲线**：\\n  - **蓝色实线**：代表“联邦制药”的股价走势。该曲线整体呈上升趋势，在2024年7月至2025年3月期间波动上行，随后在2025年3月至7月出现显著上涨，最高达到接近111%的增长幅度，之后略有回落但仍保持高位。\\n  - **灰色虚线**：代表“恒生指数”的走势。该曲线也呈上升趋势，但涨幅明显小于联邦制药，整体波动较为平缓，最高涨幅约为30%左右，且在多数时间段内低于联邦制药的涨幅。\\n\\n- **对比分析**：\\n  - 联邦制药的股价表现远超恒生指数，显示出其在这段时间内的强劲增长势头。\\n  - 两者在2024年底至2025年初有短暂趋同，但之后联邦制药迅速拉开差距。\\n  - 在2025年3月前后，联邦制药出现一次大幅拉升，而恒生指数则相对平稳。\\n\\n- **总体趋势**：整个周期中，市场环境（以恒生指数为代表）呈现温和上涨，而联邦制药作为个股表现出更强的增长动力，可能受到公司基本面改善、行业利好或特定事件驱动的影响。\\n\\n此图直观地展示了联邦制药在同期市场环境下的优异表现。')"
      ]
     },
     "execution_count": 18,
     "metadata": {},
     "output_type": "execute_result"
    }
   ],
   "source": [
    "chunks[0]"
   ]
  },
  {
   "cell_type": "code",
   "execution_count": 20,
   "id": "61357ec2",
   "metadata": {},
   "outputs": [
    {
     "data": {
      "text/plain": [
       "654"
      ]
     },
     "execution_count": 20,
     "metadata": {},
     "output_type": "execute_result"
    }
   ],
   "source": [
    "len(chunks[0].page_content)"
   ]
  },
  {
   "cell_type": "code",
   "execution_count": 23,
   "id": "8198e50c",
   "metadata": {},
   "outputs": [
    {
     "name": "stderr",
     "output_type": "stream",
     "text": [
      "处理文件 : 100%|██████████| 15/15 [00:10<00:00,  1.38it/s]\n"
     ]
    }
   ],
   "source": [
    "# 存入向量数据库\n",
    "from tqdm import tqdm\n",
    "from uuid import uuid4\n",
    "\n",
    "for i in tqdm(range(0, len(chunks), 10), desc=f'处理文件 '):\n",
    "    cur_chunks = chunks[i:i + 10]\n",
    "    vector_store.add_documents(\n",
    "        documents=cur_chunks,\n",
    "        ids=[str(uuid4()) for _ in range(len(cur_chunks))]\n",
    "    )"
   ]
  },
  {
   "cell_type": "code",
   "execution_count": 24,
   "id": "c5906643",
   "metadata": {},
   "outputs": [],
   "source": [
    "from modules.retriever import Retriever\n",
    "\n",
    "# 使用检索器看看效果\n",
    "# 使用 rerank model\n",
    "model_reranker = Retriever(\n",
    "    vector_store=vector_store,\n",
    "    topk=3,\n",
    "    search_fields=['dense', 'sparse'],\n",
    "    search_type='hybrid',\n",
    "    search_params=[\n",
    "        {'metric_type': 'L2', 'params': {'ef': 21}},\n",
    "        {'params': {'drop_ratio_search': 0.2}}\n",
    "    ],\n",
    "    ranker_type='model',\n",
    "    ranker_params={\n",
    "        'model_name': 'gte-rerank-v2',\n",
    "        'pre_topk': 10,\n",
    "        'pre_ranker_type': 'rrf',\n",
    "        'pre_ranker_params': {'k': 60}  # 定义粗排所使用的重排序参数，粗排只能使用 weighted 或 rrf\n",
    "    }\n",
    ")"
   ]
  },
  {
   "cell_type": "code",
   "execution_count": 27,
   "id": "783c5393",
   "metadata": {},
   "outputs": [],
   "source": [
    "# query = '根据联邦制药（03933.HK）的公司发展历程，请简述其在2023年的重大产品临床进展。'\n",
    "query = '联邦制药的UBT251与诺和诺德达成的20亿美元BD协议，对UBT251的临床进展有何影响？'\n",
    "a = model_reranker.get_similar_chunk_with_score(query=query)"
   ]
  },
  {
   "cell_type": "code",
   "execution_count": 28,
   "id": "17d3d951",
   "metadata": {},
   "outputs": [
    {
     "name": "stdout",
     "output_type": "stream",
     "text": [
      "[(Document(metadata={'page': 0, 'type': 'text', 'table_body': 'None', 'start_index': 399, 'filename': '联邦制药-港股公司研究报告-创新突破三靶点战略联姻诺和诺德-25071225页.pdf', 'img_path': 'None', 'pk': 'b2fb2e0b-764b-406c-ac35-66482cb3638d'}, page_content='UBT251 与诺和诺德达成 20 亿美金 BD，三靶点研发进展全球领先：2025 年 2 月，联邦制药就 UBT251 与诺和诺德达成 2 亿美元首付款，总金额 20 亿美元的 BD。UBT251 为 GLP-1/GIP/GCGR 三靶点减重药物，GCG 具有一定的减少食物摄入、增加脂肪组织能量消耗、降低体脂的作用。适当的 GCG 具有提高血糖的作用，可以反馈胰岛素的调节，减少低血糖事件的发生。礼来同靶点的 Retatrutide海外已启动头对头替尔泊肽的 3期临床， 2 期数据显示 12mg 剂量 48 周减重 24.2%，24 周减重 17.5%。而 UBT251 中国 1b 期临床试验 1mg/3mg/6mg 剂量组 12 周平均体重较基线下降 15.1%，扣除安慰剂效应后减重 16.6%，起效速度更快，极有可能实现超越Retatrutide 的疗效。\\n联邦生物在研管线丰富，创新布局将成新增长极：公司在研管线丰富，小分子布局自身免疫、代谢、眼科、抗感染等领域，JAK1 抑制剂TUL01101 片剂和软膏剂的特应性皮炎适应症处在临床 2 期；生物药布局聚焦内分泌/代谢、自身免疫领域，拥有完善的糖尿病、体重管理研发管线，德谷胰岛素和司美格鲁肽生物类似药已申报BLA，UBT251的肥胖、MAFLD、CKD 适应症处在临床 2 期。二代胃肠道激素 UBT370347月4日获FDA 减重临床许可，联用 UBT251具备更大想象空间。'),\n",
      "  0.8675879519166624),\n",
      " (Document(metadata={'page': 8, 'type': 'text', 'table_body': 'None', 'start_index': 0, 'filename': '联邦制药-港股公司研究报告-创新突破三靶点战略联姻诺和诺德-25071225页.pdf', 'img_path': 'None', 'pk': '8f73ac3f-8564-4a2f-9a0a-1bb4237e8dbe'}, page_content='三靶点 GLP-1 中礼来进展最快，联邦 UBT251 具备 BIC 潜力。礼来的 Retatrutide全球处在 3期，国内处在1期，进展最快。联邦制药国内已进入 2 期。2025年2月，联邦制药就UBT251 与诺和诺德达成 2亿美元首付款，总金额20 亿美元的BD。目前三靶点 GLP-1 药物海外进度较快的还有赛诺菲和 Hanmi Pharmaceuticals，全球处在 1 期，国内进度较快的包括民为生物的 MWN101、康缘药业的 ZX2021 等。诺和诺德作为 GLP-1 领域的两大巨头之一，与联邦的 BD 交易体现出 UBT251 临床效果上有望赶超礼来Retatrutide 的潜力，同时诺和诺德的存在也保障了海外临床的高效推进与上市后销售的推广的速度。'),\n",
      "  0.7932280667876327),\n",
      " (Document(metadata={'page': 8, 'type': 'text', 'table_body': 'None', 'start_index': 927, 'filename': '联邦制药-港股公司研究报告-创新突破三靶点战略联姻诺和诺德-25071225页.pdf', 'img_path': 'None', 'pk': 'e955611f-7e3a-4a15-8b0e-955b9c59f495'}, page_content='。而 UBT251 尚未披露完整的临床数据，但根据诺和诺德与联邦达成 BD 的官方通告中，中国 1b 期临床试验 $\\\\mathrm { 1 m g / 3 m g / 6 m g }$ 剂量组 12 周平均体重较基线下降 $1 5 . 1 \\\\%$ ，扣除安慰剂效应后减重 $1 6 . 6 \\\\%$ ，起效速度更快，极有可能实现超越 Retatrutide的疗效。此外，临床前数据显示，低剂量用药时UBT251比Retatrutide 起效更快，DIO 小鼠模型中，总体减重效果相当。UBT251 目前国内糖尿病处在临床1 期，减重、CKD 和 MAFLD 处在临床 2期。经我们测算，UBT251 减重适应症国内销售峰值可在 2032年达43亿元，经研发风险系数调整后销售额为 21.5 亿元。'),\n",
      "  0.7809696865770717)]\n"
     ]
    }
   ],
   "source": [
    "import pprint\n",
    "\n",
    "pprint.pprint(a)"
   ]
  },
  {
   "cell_type": "code",
   "execution_count": null,
   "id": "4fa5819f",
   "metadata": {},
   "outputs": [],
   "source": []
  },
  {
   "cell_type": "code",
   "execution_count": 33,
   "id": "3d4199ab",
   "metadata": {},
   "outputs": [
    {
     "data": {
      "text/plain": [
       "['中恒电气-公司研究报告-HVDC方案领头羊AI浪潮下迎新机-25071124页',\n",
       " '亚翔集成-公司研究报告-迎接海外业务重估-25071324页',\n",
       " '亿欧中国企业出海沙特季度研究报告-AI专题2025Q267页',\n",
       " '伊利专业乳品2022中国现制茶饮渠道消费者与行业趋势报告40页',\n",
       " '伊利股份-产业周期叠加内生动力业绩增速向上-21093038页',\n",
       " '伊利股份-产品升级叠加费用率下降盈利能力持续提升-22041256页',\n",
       " '伊利股份-公司深度报告王者荣耀行稳致远-22021459页',\n",
       " '伊利股份-公司研究专题报告高股息铸盾景气度为矛当前重点推荐-23051519页',\n",
       " '伊利股份-公司研究报告-平台化的乳企龙头引领行业高质量转型-25071638页',\n",
       " '伊利股份-公司研究报告黑夜终将过去把握高股息低估值乳品龙头机会-24110830页',\n",
       " '伊利股份-大象起舞龙头远航-2020072627页',\n",
       " '伊利股份-格局之变提供发展机遇内生外延打造第二曲线-22052743页',\n",
       " '伊利股份-王者之路扶摇而上-21083136页',\n",
       " '伊利股份-长期规划核心逻辑清晰十年问鼎全球乳业新高点1-21070625页',\n",
       " '伊利股份内蒙古伊利实业集团股份有限公司2024年年度报告',\n",
       " '伊利股份内蒙古伊利实业集团股份有限公司2024年第三季度报告',\n",
       " '伊利股份内蒙古伊利实业集团股份有限公司2025年第一季度报告',\n",
       " '伊利股份多元优势铸造乳企龙头未来战略目标平稳推进42页',\n",
       " '伟星股份-公司首次覆盖服饰辅料龙头柔性制造打造核心竞争力-25071313页',\n",
       " '传音控股-公司研究报告-非洲手机领军者多元化布局品类扩张生态链延伸打开成长空间-25071636页',\n",
       " '儒竞科技-公司研究报告-热泵控制器领导者新能车热管理及自动化构筑新增长曲线-25071036页',\n",
       " '光明肉业-公司首次覆盖报告国潮新消费重塑百年老字号牛周期向上重视经营拐点-25071631页',\n",
       " '公司研究伊利股份-上市公司深度温故知新走向全球化多元化的新伊利-2020021044页',\n",
       " '公司研究伊利股份-乳制品龙头国际赛道扬帆起航-2020031831页',\n",
       " '公司研究伊利股份-优势品牌活力依然跨品发展长远可期-2020012029页',\n",
       " '公司研究伊利股份-公司首次覆盖报告护城河稳固平台化发展未来可期-2020042722页',\n",
       " '公司研究伊利股份-基本面稳定短期存在盈利弹性-21012816页',\n",
       " '公司研究伊利股份-深度报告乳业航母问鼎全球-21060451页',\n",
       " '公司研究伊利股份-深度报告优秀管理助力长跑胜出净利率有望重回上升通道-2020010831页',\n",
       " '公司研究伊利股份-深度报告原奶价格持续上涨龙头企业强者恒强-21031221页',\n",
       " '公司研究伊利股份-领先恢复龙头投资价值凸显-2020070321页',\n",
       " '公司研究千味央厨-公司新股分析聚焦餐饮优质赛道兼具稳定性和成长性-21022017页',\n",
       " '公司研究广联达-复盘报告云化及平台化之路-2020073133页',\n",
       " '公司研究广联达-施工业务增速将回升-21032418页',\n",
       " '公司研究广联达-波士顿产品矩阵接力成长-2020082139页',\n",
       " '公司研究广联达-深度报告云图已现决胜蓝海-2020011034页',\n",
       " '公司研究广联达-造价业务转型加速推进施工业务整合效应初显-2020032615页',\n",
       " '公司研究广联达-首次覆盖造价施工业务为基向建筑信息化龙头平台迈进-2020093033页',\n",
       " '公司研究青鸟消防-行业景气度上行市占率提升云服务模式创新会不会是下一个广联达-2020110930页',\n",
       " '内蒙古伊利实业集团股份有限公司2022年年度报告264页',\n",
       " '内蒙古伊利实业集团股份有限公司2023年半年度报告212页',\n",
       " '内蒙古伊利实业集团股份有限公司2023年第一季度报告19页',\n",
       " '内蒙古伊利实业集团股份有限公司2023年第三季度报告19页',\n",
       " '凌云股份-公司深度研究报告热成型电池盒双轮驱动传感器加速布局-25071427页',\n",
       " '千味央厨-产品与渠道优势领先2B蓝海领航者-22071837页',\n",
       " '千味央厨-公司深度分析千滋百味厨师之选-22041226页',\n",
       " '千味央厨-公司深度分析立足餐供市场拓展速冻米面新维度-22081221页',\n",
       " '千味央厨-公司深度报告场景化思维导向深度绑定大客户-21122819页',\n",
       " '千味央厨-公司深度报告打造央厨之道服务千万餐饮-22121364页',\n",
       " '千味央厨-公司深度报告新品与渠道双轮驱动打开成长空间-23072461页',\n",
       " '千味央厨-公司深度报告深耕蓝海鹏程万里-22110953页',\n",
       " '千味央厨-公司深度报告深耕餐饮供应链借力上市迎风成长-21090634页',\n",
       " '千味央厨-公司深度报告深耕餐饮供应链厚积薄发大小B双轮驱动共筑高成长-23062827页',\n",
       " '千味央厨-公司深度研究千家餐饮之选味触万户之心-22122234页',\n",
       " '千味央厨-公司研究报告-大小B双轮驱动餐饮市场大有可为-23061240页',\n",
       " '千味央厨-公司研究报告-深耕餐饮供应链为人间千味-23011258页',\n",
       " '千味央厨-公司研究报告-餐供米面龙头大小B梯次突破-24011120页',\n",
       " '千味央厨-公司首次覆盖餐饮供应链龙头只为优厨之选-22052936页',\n",
       " '千味央厨-兼具确定性与成长性的速冻面米制品B端龙头-22042629页',\n",
       " '千味央厨-再论千味产业角色定位精准无惧竞争大有可为-22092632页',\n",
       " '千味央厨-千寻百味乘势而上-22122726页',\n",
       " '千味央厨-千滋百味央供众厨-22040638页',\n",
       " '千味央厨-厨之道央泱食材中有千味结-21090631页',\n",
       " '千味央厨-投资价值分析报告千滋百味不忘厨心-21082030页',\n",
       " '千味央厨-投资价值分析报告滴水穿石觅百厨千味-22021137页',\n",
       " '千味央厨-数十载深耕速冻米面洞察需求定位B端-21090931页',\n",
       " '千味央厨-新股分析报告细分行业新龙头引领餐饮工业化-21082541页',\n",
       " '千味央厨-柔性定制成就舌尖万味服务能力领跑业界央厨-21092423页',\n",
       " '千味央厨-深度报告深耕B端抢占蓝海-21090629页',\n",
       " '千味央厨-深度报告深耕餐饮渠道研发助力发展-22033022页',\n",
       " '千味央厨-深度报告速冻B端优势企业借餐饮长风乘势而起-21090728页',\n",
       " '千味央厨-深度研究报告聚焦B端蓝海扬帆-22051936页',\n",
       " '千味央厨-百味千寻餐饮供应链龙头正崛起-21091628页',\n",
       " '千味央厨-稳定成长兼具千味奋进正当时-22051927页',\n",
       " '千味央厨-系列报告之一双轮齐增长央厨供四方-22021720页',\n",
       " '千味央厨-系列报告之二三大优势助力腾飞-22062217页',\n",
       " '千味央厨-餐饮端速冻先行者业绩增长路径明确-21081828页',\n",
       " '千味央厨-餐饮速冻米面研究兼千味三全安井比较和而不同静待花开-21090626页',\n",
       " '千味央厨-首次覆盖报告受益餐饮工业化趋势大B端壁垒赋能小B端降维打击-22052929页',\n",
       " '千味央厨-首次覆盖报告餐饮工业东风起B端蓝海乘风上-21112828页',\n",
       " '千味央厨公司研究报告中国领先的餐饮渠道速冻面米制品供应商34页',\n",
       " '协鑫能科-公司研究报告-清洁电力运营商率先探索新能源RWA-25071516页',\n",
       " '卫星化学-公司研究报告-烯烃增量渐近高端新材料引领成长-25071434页',\n",
       " '好未来-美股公司研究报告-稀缺K12教培龙头修复正当时-25071121页',\n",
       " '广联达-二次创业关键节点短中长期看好公司价值-21102062页',\n",
       " '广联达-云计算稀缺龙头迎收入利润率双升-21080125页',\n",
       " '广联达-公司动态报告触底反转向AI而生-25060315页',\n",
       " '广联达-公司深度报告四小龙有望成为施工百亿市场增长引擎-24050531页',\n",
       " '广联达-公司深度报告大踏步走向云化第二阶段新成本平台激活客户数据价值-23020223页',\n",
       " '广联达-公司深度报告开启新增长极-22022246页',\n",
       " '广联达-公司深度报告拥抱建筑数字化拐点SaaS龙头星辰大海刚启航-2022040535页',\n",
       " '广联达-公司深度报告数字建筑全生命周期解决方案领军者-24041638页',\n",
       " '广联达-公司深度报告走在修复的道路上-25062521页',\n",
       " '广联达-公司研究-大模型助力智慧建筑未来可期新成本产品加倍云收入空间-23032619页',\n",
       " '广联达-公司研究报告-造价为盾施工为矛剑指一体化数字建筑平台-23011330页',\n",
       " '广联达-再谈广联达当前时点下如何看待其三条增长曲线-220217131页',\n",
       " '广联达-国产数字建筑龙头建筑产业转型升级核心引擎-22082919页',\n",
       " '广联达-工业软件深度研究报告长期空间与价值有望重估-22080921页',\n",
       " '广联达-探寻造价估值安全边际数字建筑一体化打开成长空间-22061233页',\n",
       " '广联达-数字经济SaaS专题广联达深度报告数字建筑领军战略驱动成长-2022040131页',\n",
       " '广联达-波士顿矩阵重磅升级施工收入能稳定25吗-22040519页',\n",
       " '广联达-深入核心工业软件新成长曲线开启-21102012页',\n",
       " '广联达-深度复盘系列三乘云而上再谱华章历史行情复盘-22060933页',\n",
       " '广联达-深度报告造价云转型逐步迎来收获期施工设计进一步打开成长空间-2021101919页',\n",
       " '广联达-深度报告造价施工设计业务齐发力打造数字建筑平台服务龙头-2022021133页',\n",
       " '广联达-深度研究系列之二全面布局数字设计开启第三增长曲线-21071531页',\n",
       " '广联达-深度跟踪报告数字建筑一体化领军-21082339页',\n",
       " '广联达-深度跟踪报告设计助推数字建筑一体化落地-22031838页',\n",
       " '广联达-跟踪报告数字建筑龙头五问五答-21120815页',\n",
       " '广联达-造价云化成果显著数字施工行稳致远-22112854页',\n",
       " '广联达-造价筑底施工决胜-22041233页',\n",
       " '影石创新-公司研究报告-高速成长的全景相机全球龙头-25071437页',\n",
       " '徐工机械-公司深度研究锦程新章启登高望远行-25071646页',\n",
       " '微光股份-公司首次覆盖深度报告电机主业地位稳固机器人打造增长新引擎-25071418页',\n",
       " '普洛药业-公司研究报告-华丽蜕变跻身国内CDMO头部梯队-25071722页',\n",
       " '晶方科技-公司研究报告-WLCSP先进封装龙头车载CIS需求扩张带来增长新动能-25071441页',\n",
       " '机械行业深度研究报告检测环节贯穿半导体产业链始终专业化分工下第三方检测空间广阔-25071622页',\n",
       " '极兔速递W-港股公司研究报告-系列一东南亚十年磨砺终成锋产业经营双拐点-25070834页',\n",
       " '水星家纺-公司首次覆盖报告家纺龙头推陈出新深化大单品战略助力全品类发展-25071027页',\n",
       " '石基信息-公司深度报告SaaS为王剑指全球酒店市场下一个广联达-2021112352页',\n",
       " '研报食品饮料行业关注酱酒崛起新趋势乳业板块推荐伊利股份-2020111613页',\n",
       " '美团闪购伊利2022即时零售常温乳品白皮书42页',\n",
       " '耀才证券金融-港股公司研究报告-港股贝塔下的LocalKing蚂蚁要约收购打开成长天花板-25071516页',\n",
       " '联邦制药-港股公司研究报告-创新突破三靶点战略联姻诺和诺德-25071225页',\n",
       " '艾力斯-公司深度报告商业化成绩显著产品矩阵持续拓宽-25070718页',\n",
       " '莲花控股-公司研究报告-调味品龙头跨界智算双轮驱动开启增长新纪元-25071740页',\n",
       " '蓝思科技-公司研究报告-精密制造平台化龙头AI驱动引领成长-25071131页',\n",
       " '蓝思科技-港股公司首次覆盖新一轮创新周期催化成长机遇-25071418页',\n",
       " '财新2018年10月伊利中国消费升级指数报告18页',\n",
       " '连连数字-港股公司研究报告-全球化牌照与稳定币创新双轮驱动跨境支付巨头迎盈利拐点-25071428页',\n",
       " '隆盛科技-公司首次覆盖报告EGR与电机铁芯龙头人形机器人核心部件打造第二成长曲线-25071435页',\n",
       " '香农芯创-公司研究报告-存储需求扩张分销产品业务双受益-25071523页']"
      ]
     },
     "execution_count": 33,
     "metadata": {},
     "output_type": "execute_result"
    }
   ],
   "source": [
    "import os\n",
    "\n",
    "os.listdir('../../output')"
   ]
  },
  {
   "cell_type": "code",
   "execution_count": 36,
   "id": "4da71b36",
   "metadata": {},
   "outputs": [],
   "source": [
    "a = [[1], [2, 3, 4]]\n",
    "b = []\n",
    "\n",
    "b += a"
   ]
  },
  {
   "cell_type": "code",
   "execution_count": 37,
   "id": "a25415c4",
   "metadata": {},
   "outputs": [
    {
     "data": {
      "text/plain": [
       "[[1], [2, 3, 4]]"
      ]
     },
     "execution_count": 37,
     "metadata": {},
     "output_type": "execute_result"
    }
   ],
   "source": [
    "b"
   ]
  },
  {
   "cell_type": "markdown",
   "id": "bae89365",
   "metadata": {},
   "source": [
    "测试批处理添加"
   ]
  },
  {
   "cell_type": "code",
   "execution_count": 2,
   "id": "d9a7f763",
   "metadata": {},
   "outputs": [],
   "source": [
    "import sys\n",
    "\n",
    "sys.path.append('../../')"
   ]
  },
  {
   "cell_type": "code",
   "execution_count": 3,
   "id": "0e618ff3",
   "metadata": {},
   "outputs": [],
   "source": [
    "import os\n",
    "from dotenv import load_dotenv\n",
    "\n",
    "from langchain_openai import ChatOpenAI, OpenAIEmbeddings\n",
    "\n",
    "load_dotenv()\n",
    "\n",
    "_embed_model = OpenAIEmbeddings(\n",
    "        api_key=os.getenv(\"BL_API_KEY\"),\n",
    "        base_url=os.getenv(\"BL_BASE_URL\"),\n",
    "        model=\"text-embedding-v4\",\n",
    "        dimensions=1024,\n",
    "        check_embedding_ctx_length=False\n",
    ")\n",
    "_vlm = ChatOpenAI(\n",
    "        api_key=os.getenv(\"BL_API_KEY\"),\n",
    "        base_url=os.getenv(\"BL_BASE_URL\"),\n",
    "        model='qwen-vl-max-2025-08-13',\n",
    "        temperature=0.0\n",
    ")\n",
    "_llm = ChatOpenAI(\n",
    "api_key=os.getenv(\"BL_API_KEY\"),\n",
    "base_url=os.getenv(\"BL_BASE_URL\"),\n",
    "model='qwen-plus-latest',\n",
    "temperature=0.0\n",
    ")\n",
    "llm_nmk = ChatOpenAI(\n",
    "api_key=os.getenv(\"BL_API_KEY_NMK1\"),\n",
    "base_url=os.getenv(\"BL_BASE_URL\"),\n",
    "model='qwen-plus-latest',\n",
    "temperature=0.0\n",
    ")"
   ]
  },
  {
   "cell_type": "code",
   "execution_count": 5,
   "id": "81019eb4",
   "metadata": {},
   "outputs": [
    {
     "name": "stderr",
     "output_type": "stream",
     "text": [
      "\u001b[32m2025-08-25 20:32:34.933\u001b[0m | \u001b[1mINFO    \u001b[0m | \u001b[36mmodules.index.index\u001b[0m:\u001b[36mget_index_done\u001b[0m:\u001b[36m102\u001b[0m - \u001b[1mmrag 向量数据库已存在，成功加载到内存中\u001b[0m\n"
     ]
    }
   ],
   "source": [
    "from modules.index.index import Index\n",
    "\n",
    "\n",
    "mrag_index = Index(\n",
    "    files_path=[''],\n",
    "    embed_model=_embed_model,\n",
    "    vlm=_vlm,\n",
    "    llm=_llm,\n",
    "    vector_store_name='mrag'\n",
    ")\n",
    "\n",
    "mrag_index.get_index_done()"
   ]
  },
  {
   "cell_type": "code",
   "execution_count": 41,
   "id": "73209a33",
   "metadata": {},
   "outputs": [
    {
     "name": "stderr",
     "output_type": "stream",
     "text": [
      "\u001b[32m2025-08-25 21:02:21.028\u001b[0m | \u001b[31m\u001b[1mERROR   \u001b[0m | \u001b[36mmodules.index.index\u001b[0m:\u001b[36mimage_to_text\u001b[0m:\u001b[36m486\u001b[0m - \u001b[31m\u001b[1m图片解析错误：'NoneType' object is not subscriptable\n",
      "item: {'type': 'image', 'img_path': 'images/4715e71ea8a1e6860af22bc33958b2fb3a0d9a9a506a21527bf9e0c260ab1bc5.jpg', 'image_caption': ['图表24：造价业务反盗版模型', '来源：公司公告，国金证券研究所'], 'image_footnote': [], 'page_idx': 13, 'filename': '广联达-公司研究报告-造价为盾施工为矛剑指一体化数字建筑平台-23011330页.pdf'}\u001b[0m\n"
     ]
    },
    {
     "name": "stdout",
     "output_type": "stream",
     "text": [
      "[{'page_content': \"图片解析错误\\nitem: {'type': 'image', 'img_path': 'images/4715e71ea8a1e6860af22bc33958b2fb3a0d9a9a506a21527bf9e0c260ab1bc5.jpg', 'image_caption': ['图表24：造价业务反盗版模型', '来源：公司公告，国金证券研究所'], 'image_footnote': [], 'page_idx': 13, 'filename': '广联达-公司研究报告-造价为盾施工为矛剑指一体化数字建筑平台-23011330页.pdf'}\", 'metadata': {'filename': '广联达-公司研究报告-造价为盾施工为矛剑指一体化数字建筑平台-23011330页.pdf', 'page': 13, 'type': 'image', 'img_path': 'images/4715e71ea8a1e6860af22bc33958b2fb3a0d9a9a506a21527bf9e0c260ab1bc5.jpg', 'table_body': 'None'}}]\n"
     ]
    }
   ],
   "source": [
    "# item = {'type': 'image', 'img_path': 'images/8192c60c6cc7786e8f6e8972791597a44fd166e8b4823b5beed13c9b052e3e1c.jpg', 'image_caption': ['图表2：千味央厨股权结构', '来源：招股说明书，国联证券研究所'], 'image_footnote': [], 'page_idx': 4, 'filename': '千味央厨-百味千寻餐饮供应链龙头正崛起-21091628页.pdf'}\n",
    "\n",
    "# item = {'type': 'image', 'img_path': 'images/ef6d39ca6d9e6188e384dba8ce998db7deebbb7501b372f704d8a73f48b1ba18.jpg', 'image_caption': ['图3： 餐饮供应链流通环节以及主要参与企业图谱', '资料来源：亿欧智库，国海证券研究所'], 'image_footnote': [], 'page_idx': 6, 'filename': '千味央厨-公司深度研究千家餐饮之选味触万户之心-22122234页.pdf'}\n",
    "\n",
    "# item = {'type': 'image', 'img_path': 'images/6eb87447f832f547714257eb1862221968f5ee0bd180b7abc834264a7bc1c8c1.jpg', 'image_caption': ['数据来源：日本速冻食品协会、Wind、国泰君安证券研究'], 'image_footnote': [], 'page_idx': 16, 'filename': '千味央厨-公司首次覆盖餐饮供应链龙头只为优厨之选-22052936页.pdf'}\n",
    "\n",
    "# item = {'type': 'image', 'img_path': 'images/29c604780deb7d078c45daa67fc508f7554d65aed2aec39069ac716887302bf3.jpg', 'image_caption': ['图47：公司打造“四小龙”产品矩阵', '资料来源：公司官网、浙商证券研究所整理'], 'image_footnote': [], 'page_idx': 20, 'filename': '广联达-公司深度报告四小龙有望成为施工百亿市场增长引擎-24050531页.pdf'}\n",
    "\n",
    "# item = {'type': 'image', 'img_path': 'images/18da0156fb111906371d8642288978a550b4b73aa7e99c6f9703aee0e0476de8.jpg', 'image_caption': ['图2：千味四大产品品类', '数据来源：招股说明书，东北证券'], 'image_footnote': [], 'page_idx': 5, 'filename': '千味央厨-千滋百味央供众厨-22040638页.pdf'}\n",
    "\n",
    "# item = {'type': 'image', 'img_path': 'images/261726caa177031bb82be16697fceb1bdcd3379e4d5a94e2f231dd8dc73de3d9.jpg', 'image_caption': ['图：营业收入（亿元）及增速', '来源：Wind、招商证券'], 'image_footnote': [], 'page_idx': 15, 'filename': '千味央厨-公司研究报告-深耕餐饮供应链为人间千味-23011258页.pdf'}\n",
    "\n",
    "# item = {'type': 'image', 'img_path': 'images/7ac5ddc2260c2e5655664d1f08864861348c4cee6e8e8b2ded620c2780a0c4a3.jpg', 'image_caption': ['图37：部分千味合作大型餐饮客戶', '数据来源：招股说明书，东北证券'], 'image_footnote': [], 'page_idx': 21, 'filename': '千味央厨-千滋百味央供众厨-22040638页.pdf'}\n",
    "\n",
    "# item = {'type': 'image', 'img_path': 'images/f4782ee00a9635f25df25dafba40e2d9bf3ed9a4347ba2d859242ed174d88caa.jpg', 'image_caption': ['图表5：公司产品SKU数量呈上升趋势（单位：个)', '来源：公司招股说明书，国联证券研究所'], 'image_footnote': [], 'page_idx': 6, 'filename': '千味央厨-百味千寻餐饮供应链龙头正崛起-21091628页.pdf'}\n",
    "\n",
    "# item = {'type': 'image', 'img_path': 'images/d0b8dd809b5841657132c61116ad10e460e6ec1a5c6d40ce76228c7bd2216680.jpg', 'image_caption': ['图49：千味央厨供应链管理体系成熟', '资料来源：公司官网，公司招股说明书，光大证券研究所'], 'image_footnote': [], 'page_idx': 27, 'filename': '千味央厨-投资价值分析报告滴水穿石觅百厨千味-22021137页.pdf'}\n",
    "\n",
    "# item = {'type': 'image', 'img_path': 'images/7d1872086c9587b833e2a6f0e48cc84940ffc8e2999cec269775004fc3910c9b.jpg', 'image_caption': ['图 45：干味央厨直销客户供应链流程', '资料来源：公司公告，申万宏源研究'], 'image_footnote': [], 'page_idx': 25, 'filename': '千味央厨-数十载深耕速冻米面洞察需求定位B端-21090931页.pdf'}\n",
    "\n",
    "# item = {'type': 'image', 'img_path': 'images/c1594aa9408795ca7f57214e0cf1ec084188667cdfad6fc7b6865e2e7bd18e3f.jpg', 'image_caption': ['图 57：千味销售费用率低于可比公司', '数据来源：招股说明书，公司公告，东北证券'], 'image_footnote': [], 'page_idx': 29, 'filename': '千味央厨-千滋百味央供众厨-22040638页.pdf'}\n",
    "\n",
    "# item = {'type': 'image', 'img_path': 'images/fc69858bfaf7be98ed4a289d3de72a1e9d886b8a9c271b333f3420a40eff4c75.jpg', 'image_caption': ['图 50：千味央厨质量管理部四大模块分工明确', '资料来源：公司官网，公司招股说明书，光大证券研究所'], 'image_footnote': [], 'page_idx': 27, 'filename': '千味央厨-投资价值分析报告滴水穿石觅百厨千味-22021137页.pdf'}\n",
    "\n",
    "# item = {'type': 'image', 'img_path': 'images/4715e71ea8a1e6860af22bc33958b2fb3a0d9a9a506a21527bf9e0c260ab1bc5.jpg', 'image_caption': ['图表24：造价业务反盗版模型', '来源：公司公告，国金证券研究所'], 'image_footnote': [], 'page_idx': 13, 'filename': '广联达-公司研究报告-造价为盾施工为矛剑指一体化数字建筑平台-23011330页.pdf'}\n",
    "\n",
    "item = {'type': 'image', 'img_path': 'images/4715e71ea8a1e6860af22bc33958b2fb3a0d9a9a506a21527bf9e0c260ab1bc5.jpg', 'image_caption': ['图表24：造价业务反盗版模型', '来源：公司公告，国金证券研究所'], 'image_footnote': [], 'page_idx': 13, 'filename': '广联达-公司研究报告-造价为盾施工为矛剑指一体化数字建筑平台-23011330页.pdf'}\n",
    "\n",
    "\n",
    "\n",
    "res = [mrag_index.image_to_text(item)]\n",
    "print(res)"
   ]
  },
  {
   "cell_type": "code",
   "execution_count": 38,
   "id": "727c1026",
   "metadata": {},
   "outputs": [],
   "source": [
    "from uuid import uuid4\n",
    "\n",
    "documents = mrag_index.documents_json_to_documents(res)\n",
    "chunks = mrag_index.documents_to_chunks(documents, chunk_size=700, chunk_overlap=50)\n",
    "for i in range(0, len(chunks), 10):\n",
    "    cur_chunks = chunks[i:i + 10]\n",
    "    mrag_index.vector_store.add_documents(\n",
    "        documents=cur_chunks,\n",
    "        ids=[str(uuid4()) for _ in range(len(cur_chunks))]\n",
    "    )"
   ]
  },
  {
   "cell_type": "code",
   "execution_count": null,
   "id": "059b4e0b",
   "metadata": {},
   "outputs": [],
   "source": []
  },
  {
   "cell_type": "code",
   "execution_count": null,
   "id": "4c822d5b",
   "metadata": {},
   "outputs": [],
   "source": [
    "# 创建一个向量数据库\n",
    "from langchain_milvus import Milvus, BM25BuiltInFunction\n",
    "\n",
    "\n",
    "# 定义向量场的索引参数\n",
    "dense_index_parma = {\n",
    "    \"metric_type\": \"L2\",\n",
    "    \"index_type\": \"HNSW\",\n",
    "    \"params\": {\n",
    "        \"M\": 64,\n",
    "        \"efConstruction\": 400\n",
    "    }\n",
    "}\n",
    "sparse_index_param = {\n",
    "    \"metric_type\": \"BM25\",\n",
    "    \"index_type\": \"AUTOINDEX\",\n",
    "    \"params\": {}\n",
    "}\n",
    "vector_store = Milvus(\n",
    "    collection_name='mrag',\n",
    "    embedding_function=_embed_model,\n",
    "    builtin_function=BM25BuiltInFunction(output_field_names='sparse'),\n",
    "    vector_field=['dense', 'sparse'],\n",
    "    index_params=[dense_index_parma, sparse_index_param]  # 顺序关系是对应的\n",
    ")"
   ]
  },
  {
   "cell_type": "code",
   "execution_count": 46,
   "id": "c38165f2",
   "metadata": {},
   "outputs": [
    {
     "name": "stderr",
     "output_type": "stream",
     "text": [
      "Failed to multipart ingest runs: langsmith.utils.LangSmithRateLimitError: Rate limit exceeded for https://api.smith.langchain.com/runs/multipart. HTTPError('429 Client Error: Too Many Requests for url: https://api.smith.langchain.com/runs/multipart', '{\"error\":\"Too many requests: tenant exceeded usage limits: Monthly unique traces usage limit exceeded\"}\\n')trace=0e2096fa-410d-4157-a555-6ce9b4ec4d2a,id=0e2096fa-410d-4157-a555-6ce9b4ec4d2a\n",
      "\u001b[32m2025-08-25 21:18:15.498\u001b[0m | \u001b[31m\u001b[1mERROR   \u001b[0m | \u001b[36mmodules.index.index\u001b[0m:\u001b[36mtable_to_text\u001b[0m:\u001b[36m510\u001b[0m - \u001b[31m\u001b[1m表格解析错误：Error code: 400 - {'error': {'code': 'data_inspection_failed', 'param': None, 'message': 'Output data may contain inappropriate content.', 'type': 'data_inspection_failed'}, 'id': 'chatcmpl-f19c3501-92d8-92ff-9ff2-f6e063464b65', 'request_id': 'f19c3501-92d8-92ff-9ff2-f6e063464b65'}\n",
      "item: {'type': 'table', 'img_path': 'images/757530c761617534ca1fa287dbffe21e3ab4c6a10e49ac1970219b7159f0a74f.jpg', 'table_caption': ['表5：伊利产品品类及主要品牌'], 'table_footnote': ['资料来源：公司官网，华金证券研究所'], 'table_body': '<table><tr><td>伊利产品产品品类</td><td></td><td>主要产品品牌</td></tr><tr><td rowspan=\"3\">常温奶</td><td>纯奶</td><td>金典、伊利纯牛奶，味可滋、谷粒多、舒化奶、核桃乳、学生奶 等</td></tr><tr><td>常溫酸奶</td><td>安慕希、QQ星儿童风味酸奶、</td></tr><tr><td>常温乳饮料 低温酸奶</td><td>优酸乳、畅意100%，QQ星饮品 畅轻、益消、大果粒等</td></tr><tr><td>低温奶</td><td>鲜奶 低温乳饮料每益添</td><td>金典鲜牛奶、百格特、牧场清晨鲜牛奶、伊利鲜牛奶 金领冠、伊利奶茶粉、伊利欣活配方奶粉、托菲尔、伊利婴幼儿</td></tr><tr><td>奶粉</td><td></td><td>配方奶粉、培然、伊利牛奶片</td></tr><tr><td>冷饮 奶酪</td><td></td><td>巧乐兹、伊利火炬、伊利牧场、冰工厂、妙趣、甄稀等</td></tr><tr><td>健康饮品</td><td></td><td>伊利儿童奶酪棒、妙芝</td></tr><tr><td></td><td></td><td>焕醒源、伊然、Inikin、圣瑞思</td></tr></table>', 'page_idx': 16, 'filename': '公司研究伊利股份-乳制品龙头国际赛道扬帆起航-2020031831页.pdf'}\u001b[0m\n"
     ]
    },
    {
     "name": "stdout",
     "output_type": "stream",
     "text": [
      "[{'page_content': '表格解析错误\\nitem: {\\'type\\': \\'table\\', \\'img_path\\': \\'images/757530c761617534ca1fa287dbffe21e3ab4c6a10e49ac1970219b7159f0a74f.jpg\\', \\'table_caption\\': [\\'表5：伊利产品品类及主要品牌\\'], \\'table_footnote\\': [\\'资料来源：公司官网，华金证券研究所\\'], \\'table_body\\': \\'<table><tr><td>伊利产品产品品类</td><td></td><td>主要产品品牌</td></tr><tr><td rowspan=\"3\">常温奶</td><td>纯奶</td><td>金典、伊利纯牛奶，味可滋、谷粒多、舒化奶、核桃乳、学生奶 等</td></tr><tr><td>常溫酸奶</td><td>安慕希、QQ星儿童风味酸奶、</td></tr><tr><td>常温乳饮料 低温酸奶</td><td>优酸乳、畅意100%，QQ星饮品 畅轻、益消、大果粒等</td></tr><tr><td>低温奶</td><td>鲜奶 低温乳饮料每益添</td><td>金典鲜牛奶、百格特、牧场清晨鲜牛奶、伊利鲜牛奶 金领冠、伊利奶茶粉、伊利欣活配方奶粉、托菲尔、伊利婴幼儿</td></tr><tr><td>奶粉</td><td></td><td>配方奶粉、培然、伊利牛奶片</td></tr><tr><td>冷饮 奶酪</td><td></td><td>巧乐兹、伊利火炬、伊利牧场、冰工厂、妙趣、甄稀等</td></tr><tr><td>健康饮品</td><td></td><td>伊利儿童奶酪棒、妙芝</td></tr><tr><td></td><td></td><td>焕醒源、伊然、Inikin、圣瑞思</td></tr></table>\\', \\'page_idx\\': 16, \\'filename\\': \\'公司研究伊利股份-乳制品龙头国际赛道扬帆起航-2020031831页.pdf\\'}', 'metadata': {'filename': '公司研究伊利股份-乳制品龙头国际赛道扬帆起航-2020031831页.pdf', 'page': 16, 'type': 'table', 'img_path': 'images/757530c761617534ca1fa287dbffe21e3ab4c6a10e49ac1970219b7159f0a74f.jpg', 'table_body': '<table><tr><td>伊利产品产品品类</td><td></td><td>主要产品品牌</td></tr><tr><td rowspan=\"3\">常温奶</td><td>纯奶</td><td>金典、伊利纯牛奶，味可滋、谷粒多、舒化奶、核桃乳、学生奶 等</td></tr><tr><td>常溫酸奶</td><td>安慕希、QQ星儿童风味酸奶、</td></tr><tr><td>常温乳饮料 低温酸奶</td><td>优酸乳、畅意100%，QQ星饮品 畅轻、益消、大果粒等</td></tr><tr><td>低温奶</td><td>鲜奶 低温乳饮料每益添</td><td>金典鲜牛奶、百格特、牧场清晨鲜牛奶、伊利鲜牛奶 金领冠、伊利奶茶粉、伊利欣活配方奶粉、托菲尔、伊利婴幼儿</td></tr><tr><td>奶粉</td><td></td><td>配方奶粉、培然、伊利牛奶片</td></tr><tr><td>冷饮 奶酪</td><td></td><td>巧乐兹、伊利火炬、伊利牧场、冰工厂、妙趣、甄稀等</td></tr><tr><td>健康饮品</td><td></td><td>伊利儿童奶酪棒、妙芝</td></tr><tr><td></td><td></td><td>焕醒源、伊然、Inikin、圣瑞思</td></tr></table>'}}]\n"
     ]
    },
    {
     "name": "stderr",
     "output_type": "stream",
     "text": [
      "Failed to multipart ingest runs: langsmith.utils.LangSmithRateLimitError: Rate limit exceeded for https://api.smith.langchain.com/runs/multipart. HTTPError('429 Client Error: Too Many Requests for url: https://api.smith.langchain.com/runs/multipart', '{\"error\":\"Too many requests: tenant exceeded usage limits: Monthly unique traces usage limit exceeded\"}\\n')trace=0e2096fa-410d-4157-a555-6ce9b4ec4d2a,id=0e2096fa-410d-4157-a555-6ce9b4ec4d2a\n"
     ]
    }
   ],
   "source": [
    "item = {'type': 'table', 'img_path': 'images/757530c761617534ca1fa287dbffe21e3ab4c6a10e49ac1970219b7159f0a74f.jpg', 'table_caption': ['表5：伊利产品品类及主要品牌'], 'table_footnote': ['资料来源：公司官网，华金证券研究所'], 'table_body': '<table><tr><td>伊利产品产品品类</td><td></td><td>主要产品品牌</td></tr><tr><td rowspan=\"3\">常温奶</td><td>纯奶</td><td>金典、伊利纯牛奶，味可滋、谷粒多、舒化奶、核桃乳、学生奶 等</td></tr><tr><td>常溫酸奶</td><td>安慕希、QQ星儿童风味酸奶、</td></tr><tr><td>常温乳饮料 低温酸奶</td><td>优酸乳、畅意100%，QQ星饮品 畅轻、益消、大果粒等</td></tr><tr><td>低温奶</td><td>鲜奶 低温乳饮料每益添</td><td>金典鲜牛奶、百格特、牧场清晨鲜牛奶、伊利鲜牛奶 金领冠、伊利奶茶粉、伊利欣活配方奶粉、托菲尔、伊利婴幼儿</td></tr><tr><td>奶粉</td><td></td><td>配方奶粉、培然、伊利牛奶片</td></tr><tr><td>冷饮 奶酪</td><td></td><td>巧乐兹、伊利火炬、伊利牧场、冰工厂、妙趣、甄稀等</td></tr><tr><td>健康饮品</td><td></td><td>伊利儿童奶酪棒、妙芝</td></tr><tr><td></td><td></td><td>焕醒源、伊然、Inikin、圣瑞思</td></tr></table>', 'page_idx': 16, 'filename': '公司研究伊利股份-乳制品龙头国际赛道扬帆起航-2020031831页.pdf'}\n",
    "\n",
    "res = [mrag_index.table_to_text(item)]\n",
    "print(res)"
   ]
  },
  {
   "cell_type": "code",
   "execution_count": 45,
   "id": "9fcdf96e",
   "metadata": {},
   "outputs": [
    {
     "ename": "KeyError",
     "evalue": "'table_body'",
     "output_type": "error",
     "traceback": [
      "\u001b[1;31m---------------------------------------------------------------------------\u001b[0m",
      "\u001b[1;31mKeyError\u001b[0m                                  Traceback (most recent call last)",
      "Cell \u001b[1;32mIn[45], line 1\u001b[0m\n\u001b[1;32m----> 1\u001b[0m \u001b[43mitem\u001b[49m\u001b[43m[\u001b[49m\u001b[38;5;124;43m'\u001b[39;49m\u001b[38;5;124;43mtable_body\u001b[39;49m\u001b[38;5;124;43m'\u001b[39;49m\u001b[43m]\u001b[49m\n",
      "\u001b[1;31mKeyError\u001b[0m: 'table_body'"
     ]
    }
   ],
   "source": [
    "item['table_body']"
   ]
  },
  {
   "cell_type": "code",
   "execution_count": null,
   "id": "8c5b1027",
   "metadata": {},
   "outputs": [],
   "source": [
    "item = {\n",
    "    'type': 'table',\n",
    "    'img_path': '',\n",
    "    'table_caption': [],\n",
    "    'table_footnote': [],\n",
    "    'table_body': '',\n",
    "    'page_idx': 0,\n",
    "    'filename': ''\n",
    "}\n",
    "\n",
    "\n",
    "'伊利 第一季度'\n",
    "\n",
    "{'type': 'table', 'img_path': 'images/757530c761617534ca1fa287dbffe21e3ab4c6a10e49ac1970219b7159f0a74f.jpg', 'table_caption': ['表5：伊利产品品类及主要品牌'], 'table_footnote': ['资料来源：公司官网，华金证券研究所'], 'table_body': '<table><tr><td>伊利产品产品品类</td><td></td><td>主要产品品牌</td></tr><tr><td rowspan=\"3\">常温奶</td><td>纯奶</td><td>金典、伊利纯牛奶，味可滋、谷粒多、舒化奶、核桃乳、学生奶 等</td></tr><tr><td>常溫酸奶</td><td>安慕希、QQ星儿童风味酸奶、</td></tr><tr><td>常温乳饮料 低温酸奶</td><td>优酸乳、畅意100%，QQ星饮品 畅轻、益消、大果粒等</td></tr><tr><td>低温奶</td><td>鲜奶 低温乳饮料每益添</td><td>金典鲜牛奶、百格特、牧场清晨鲜牛奶、伊利鲜牛奶 金领冠、伊利奶茶粉、伊利欣活配方奶粉、托菲尔、伊利婴幼儿</td></tr><tr><td>奶粉</td><td></td><td>配方奶粉、培然、伊利牛奶片</td></tr><tr><td>冷饮 奶酪</td><td></td><td>巧乐兹、伊利火炬、伊利牧场、冰工厂、妙趣、甄稀等</td></tr><tr><td>健康饮品</td><td></td><td>伊利儿童奶酪棒、妙芝</td></tr><tr><td></td><td></td><td>焕醒源、伊然、Inikin、圣瑞思</td></tr></table>', 'page_idx': 16, 'filename': '公司研究伊利股份-乳制品龙头国际赛道扬帆起航-2020031831页.pdf'}\n",
    "\n",
    "{'type': 'table', 'img_path': 'images/b0a06690fca68cee49e62adec8d4a433dc769aadbad324da9089768af3287b27.jpg', 'table_caption': ['表6：伊利产品品类及主要品牌'], 'table_footnote': ['资料来源：公司官网，华金证券研究所'], 'table_body': '<table><tr><td>伊利产品产品品类</td><td></td><td>主要产品品牌</td></tr><tr><td rowspan=\"2\">常温奶</td><td>纯奶</td><td>金典、伊利纯牛奶，味可滋、谷粒多、舒化奶、核桃乳、学生奶 等</td></tr><tr><td>常温酸奶 常温乳饮料</td><td>安慕希、QQ星儿童风味酸奶、 优酸乳、畅意100%，QQ星饮品</td></tr><tr><td>低温奶</td><td>低温酸奶 鲜奶 低温乳饮料•每益添</td><td>畅轻、益消、大果粒等 金典鲜牛奶、百格特、牧场清晨鲜牛奶、伊利鲜牛奶</td></tr><tr><td>奶粉</td><td></td><td>金领冠、伊利奶茶粉、伊利欣活配方奶粉、托菲尔、伊利婴幼儿 配方奶粉、培然、伊利牛奶片</td></tr><tr><td>冷饮</td><td></td><td>巧乐兹、伊利火炬、伊利牧场、冰工厂、妙趣、甄稀等</td></tr><tr><td>奶酪 健康饮品</td><td></td><td>伊利儿童奶酪棒、妙芝</td></tr><tr><td></td><td></td><td>焕醒源、伊然、Inikin、圣瑞思</td></tr></table>', 'page_idx': 23, 'filename': '公司研究伊利股份-乳制品龙头国际赛道扬帆起航-2020031831页.pdf'}\n",
    "\n",
    "{'type': 'table', 'img_path': 'images/2a2e5fbdc2dc430a1c83b6d7462308fd7fbeba2743b4d3f654db0f96cf14a0f8.jpg', 'table_caption': ['表10：公司部分管理层领导背景'], 'table_footnote': ['资料来源：公开资料，浙商证券研究所整理'], 'table_body': '<table><tr><td>姓名</td><td>年龄</td><td>职位</td><td>从业经验</td></tr><tr><td>潘刚</td><td>51</td><td>董事长、总裁</td><td>男，1970年生，研究生学历，现任内蒙古伊利实业集团股份有限公司党委书记、董 事长、总裁。历任伊利集团冷冻食品公司生产部部长、伊利集团矿泉饮料有限责任公 司董事长、总经理兼党总支书记，伊利集团总裁助理兼液态奶事业部总经理。</td></tr><tr><td>赵成霞</td><td>51</td><td>董事、副总裁、财务 负责人</td><td>女，1970 年生，本科学历，现任内蒙古伊利实业集团股份有限公司董事、副总裁、 财务负责人。历任内蒙古伊利实业集团股份有限公司财务部部长助理、财务管理部总 经理、总裁助理。</td></tr><tr><td>刘春海</td><td>58</td><td>副总裁</td><td>男，1963 年生，本科学历，现任内蒙古伊利实业集团股份有限公司执行董事、副总 裁，集团公司党委副主席。历任内蒙古伊利实业集团股份有限公司液态奶事业部党总 支副书记、行政部总监，集团行政管理部总经理、品牌管理部总经理、公共关系管理 负责人、集团助理总裁。</td></tr><tr><td>邱向敏</td><td>46</td><td>董事会秘书</td><td>男，1975 年生，本科学历，现任内蒙古伊利实业集团股份有限公司董事会秘书，历 任内蒙古伊利实业集团股份有限公司原奶事业部财务副总监、液态奶事业部财务副总 监、公司总裁办公室副总监。</td></tr></table>', 'page_idx': 44, 'filename': '公司研究伊利股份-深度报告乳业航母问鼎全球-21060451页.pdf'}\n",
    "\n",
    "{'type': 'table', 'img_path': 'images/7d4386edb6ff0b1ddd4de7cdcb49b43d11e7417c2ff7fc51cbfd96a7e4d62847.jpg', 'table_caption': ['表6：公司产品结构以及相关品牌'], 'table_footnote': ['资料来源：公司官网，潮海证券'], 'table_body': '<table><tr><td colspan=\"6\">产品结构 品牌</td></tr><tr><td rowspan=\"2\">液态奶</td><td>安慕希</td><td>金典有机奶</td><td>优酸乳</td><td>植选</td><td>QQ星</td></tr><tr><td>谷粒多</td><td>舒化奶</td><td>味可滋</td><td>基础产品</td><td>其他</td></tr><tr><td rowspan=\"2\">奶粉</td><td>金领冠</td><td>金贝智</td><td>培然</td><td></td><td></td></tr><tr><td>伊利婴幼儿</td><td>伊利欣活</td><td>伊利牛奶片</td><td>伊利奶茶粉</td><td></td></tr><tr><td rowspan=\"2\">低温酸奶</td><td>畅轻</td><td>芝士点</td><td>益消</td><td>大果粒</td><td></td></tr><tr><td>Joy Day</td><td>帕瑞缇</td><td>伊利QQ星</td><td>大头盖新品</td><td></td></tr><tr><td rowspan=\"2\">冷饮</td><td>巧乐兹</td><td>冰工厂</td><td>妙趣</td><td>甄稀</td><td></td></tr><tr><td>伊利火炬</td><td>伊利牧场</td><td>基础产品</td><td></td><td></td></tr><tr><td>奶酪</td><td>儿童奶酪棒</td><td>芝士片</td><td>芝士碎</td><td></td><td></td></tr><tr><td>健康饮品</td><td>畅意</td><td></td><td></td><td></td><td></td></tr></table>', 'page_idx': 15, 'filename': '公司研究伊利股份-深度报告原奶价格持续上涨龙头企业强者恒强-21031221页.pdf'}\n",
    "\n",
    "{'type': 'image', 'img_path': 'images/ef6d39ca6d9e6188e384dba8ce998db7deebbb7501b372f704d8a73f48b1ba18.jpg', 'image_caption': ['图3： 餐饮供应链流通环节以及主要参与企业图谱', '资料来源：亿欧智库，国海证券研究所'], 'image_footnote': [], 'page_idx': 6, 'filename': '千味央厨-公司深度研究千家餐饮之选味触万户之心-22122234页.pdf'}\n",
    "\n",
    "{'type': 'image', 'img_path': 'images/261726caa177031bb82be16697fceb1bdcd3379e4d5a94e2f231dd8dc73de3d9.jpg', 'image_caption': ['图：营业收入（亿元）及增速', '来源：Wind、招商证券'], 'image_footnote': [], 'page_idx': 15, 'filename': '千味央厨-公司研究报告-深耕餐饮供应链为人间千味-23011258页.pdf'}\n",
    "\n",
    "{'type': 'image', 'img_path': 'images/261726caa177031bb82be16697fceb1bdcd3379e4d5a94e2f231dd8dc73de3d9.jpg', 'image_caption': ['图：营业收入（亿元）及增速', '来源：Wind、招商证券'], 'image_footnote': [], 'page_idx': 15, 'filename': '千味央厨-公司研究报告-深耕餐饮供应链为人间千味-23011258页.pdf'}\n",
    "\n",
    "{'type': 'image', 'img_path': 'images/6eb87447f832f547714257eb1862221968f5ee0bd180b7abc834264a7bc1c8c1.jpg', 'image_caption': ['数据来源：日本速冻食品协会、Wind、国泰君安证券研究'], 'image_footnote': [], 'page_idx': 16, 'filename': '千味央厨-公司首次覆盖餐饮供应链龙头只为优厨之选-22052936页.pdf'}\n",
    "\n",
    "{'type': 'image', 'img_path': 'images/7ac5ddc2260c2e5655664d1f08864861348c4cee6e8e8b2ded620c2780a0c4a3.jpg', 'image_caption': ['图37：部分千味合作大型餐饮客戶', '数据来源：招股说明书，东北证券'], 'image_footnote': [], 'page_idx': 21, 'filename': '千味央厨-千滋百味央供众厨-22040638页.pdf'}\n",
    "\n",
    "{'type': 'image', 'img_path': 'images/18da0156fb111906371d8642288978a550b4b73aa7e99c6f9703aee0e0476de8.jpg', 'image_caption': ['图2：千味四大产品品类', '数据来源：招股说明书，东北证券'], 'image_footnote': [], 'page_idx': 5, 'filename': '千味央厨-千滋百味央供众厨-22040638页.pdf'}\n",
    "\n",
    "{'type': 'image', 'img_path': 'images/c1594aa9408795ca7f57214e0cf1ec084188667cdfad6fc7b6865e2e7bd18e3f.jpg', 'image_caption': ['图 57：千味销售费用率低于可比公司', '数据来源：招股说明书，公司公告，东北证券'], 'image_footnote': [], 'page_idx': 29, 'filename': '千味央厨-千滋百味央供众厨-22040638页.pdf'}\n",
    "\n",
    "{'type': 'image', 'img_path': 'images/d0b8dd809b5841657132c61116ad10e460e6ec1a5c6d40ce76228c7bd2216680.jpg', 'image_caption': ['图49：千味央厨供应链管理体系成熟', '资料来源：公司官网，公司招股说明书，光大证券研究所'], 'image_footnote': [], 'page_idx': 27, 'filename': '千味央厨-投资价值分析报告滴水穿石觅百厨千味-22021137页.pdf'}\n",
    "\n",
    "{'type': 'image', 'img_path': 'images/fc69858bfaf7be98ed4a289d3de72a1e9d886b8a9c271b333f3420a40eff4c75.jpg', 'image_caption': ['图 50：千味央厨质量管理部四大模块分工明确', '资料来源：公司官网，公司招股说明书，光大证券研究所'], 'image_footnote': [], 'page_idx': 27, 'filename': '千味央厨-投资价值分析报告滴水穿石觅百厨千味-22021137页.pdf'}\n",
    "\n",
    "{'type': 'image', 'img_path': 'images/7d1872086c9587b833e2a6f0e48cc84940ffc8e2999cec269775004fc3910c9b.jpg', 'image_caption': ['图 45：干味央厨直销客户供应链流程', '资料来源：公司公告，申万宏源研究'], 'image_footnote': [], 'page_idx': 25, 'filename': '千味央厨-数十载深耕速冻米面洞察需求定位B端-21090931页.pdf'}"
   ]
  }
 ],
 "metadata": {
  "kernelspec": {
   "display_name": "llm",
   "language": "python",
   "name": "python3"
  },
  "language_info": {
   "codemirror_mode": {
    "name": "ipython",
    "version": 3
   },
   "file_extension": ".py",
   "mimetype": "text/x-python",
   "name": "python",
   "nbconvert_exporter": "python",
   "pygments_lexer": "ipython3",
   "version": "3.12.8"
  }
 },
 "nbformat": 4,
 "nbformat_minor": 5
}
