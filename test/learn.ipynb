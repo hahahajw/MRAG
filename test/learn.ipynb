{
 "cells": [
  {
   "cell_type": "code",
   "execution_count": null,
   "id": "681e1cbb",
   "metadata": {},
   "outputs": [],
   "source": []
  },
  {
   "cell_type": "markdown",
   "id": "9801cb90",
   "metadata": {},
   "source": [
    "Milvus 中的元数据过滤"
   ]
  },
  {
   "cell_type": "code",
   "execution_count": 2,
   "id": "1dc322e0",
   "metadata": {},
   "outputs": [],
   "source": [
    "from langchain_openai import ChatOpenAI, OpenAIEmbeddings\n",
    "from dotenv import load_dotenv\n",
    "import os\n",
    "\n",
    "load_dotenv()\n",
    "\n",
    "llm = ChatOpenAI(\n",
    "    api_key=os.getenv(\"BL_API_KEY\"),\n",
    "    base_url=os.getenv(\"BL_BASE_URL\"),\n",
    "    model='qwen-max-latest',\n",
    "    temperature=0.0\n",
    ")\n",
    "\n",
    "embed_model = OpenAIEmbeddings(\n",
    "    api_key=os.getenv(\"BL_API_KEY\"),\n",
    "    base_url=os.getenv(\"BL_BASE_URL\"),\n",
    "    model=\"text-embedding-v3\",\n",
    "    dimensions=1024,\n",
    "    check_embedding_ctx_length=False\n",
    ")"
   ]
  },
  {
   "cell_type": "code",
   "execution_count": 3,
   "id": "4b37be67",
   "metadata": {},
   "outputs": [],
   "source": [
    "# 定义向量数据库\n",
    "from langchain_milvus import Milvus, BM25BuiltInFunction\n",
    "\n",
    "vector_store = Milvus(\n",
    "    collection_name='hybrid_hotpotqa500_hnsw',\n",
    "    embedding_function=embed_model,\n",
    "    builtin_function=BM25BuiltInFunction(output_field_names='sparse'),\n",
    "    vector_field=['dense', 'sparse']\n",
    ")"
   ]
  },
  {
   "cell_type": "code",
   "execution_count": 4,
   "id": "8b9d6023",
   "metadata": {},
   "outputs": [],
   "source": [
    "client = vector_store.client"
   ]
  },
  {
   "cell_type": "code",
   "execution_count": null,
   "id": "7c0df888",
   "metadata": {},
   "outputs": [],
   "source": [
    "client.search(\n",
    "    \n",
    ")"
   ]
  },
  {
   "cell_type": "code",
   "execution_count": null,
   "id": "c666fdf5",
   "metadata": {},
   "outputs": [],
   "source": []
  },
  {
   "cell_type": "code",
   "execution_count": 6,
   "id": "d1ea3727",
   "metadata": {},
   "outputs": [
    {
     "data": {
      "text/plain": [
       "['中恒电气-公司研究报告-HVDC方案领头羊AI浪潮下迎新机-25071124页',\n",
       " '亚翔集成-公司研究报告-迎接海外业务重估-25071324页',\n",
       " '亿欧中国企业出海沙特季度研究报告-AI专题2025Q267页',\n",
       " '伊利专业乳品2022中国现制茶饮渠道消费者与行业趋势报告40页',\n",
       " '伊利股份-产业周期叠加内生动力业绩增速向上-21093038页',\n",
       " '伊利股份-产品升级叠加费用率下降盈利能力持续提升-22041256页',\n",
       " '伊利股份-公司深度报告王者荣耀行稳致远-22021459页',\n",
       " '伊利股份-公司研究专题报告高股息铸盾景气度为矛当前重点推荐-23051519页',\n",
       " '伊利股份-公司研究报告-平台化的乳企龙头引领行业高质量转型-25071638页',\n",
       " '伊利股份-公司研究报告黑夜终将过去把握高股息低估值乳品龙头机会-24110830页',\n",
       " '伊利股份-大象起舞龙头远航-2020072627页',\n",
       " '伊利股份-格局之变提供发展机遇内生外延打造第二曲线-22052743页',\n",
       " '伊利股份-王者之路扶摇而上-21083136页',\n",
       " '伊利股份-长期规划核心逻辑清晰十年问鼎全球乳业新高点1-21070625页',\n",
       " '伊利股份内蒙古伊利实业集团股份有限公司2024年年度报告',\n",
       " '伊利股份内蒙古伊利实业集团股份有限公司2024年第三季度报告',\n",
       " '伊利股份内蒙古伊利实业集团股份有限公司2025年第一季度报告',\n",
       " '伊利股份多元优势铸造乳企龙头未来战略目标平稳推进42页',\n",
       " '伟星股份-公司首次覆盖服饰辅料龙头柔性制造打造核心竞争力-25071313页',\n",
       " '传音控股-公司研究报告-非洲手机领军者多元化布局品类扩张生态链延伸打开成长空间-25071636页',\n",
       " '儒竞科技-公司研究报告-热泵控制器领导者新能车热管理及自动化构筑新增长曲线-25071036页',\n",
       " '光明肉业-公司首次覆盖报告国潮新消费重塑百年老字号牛周期向上重视经营拐点-25071631页',\n",
       " '公司研究伊利股份-上市公司深度温故知新走向全球化多元化的新伊利-2020021044页',\n",
       " '公司研究伊利股份-乳制品龙头国际赛道扬帆起航-2020031831页',\n",
       " '公司研究伊利股份-优势品牌活力依然跨品发展长远可期-2020012029页',\n",
       " '公司研究伊利股份-公司首次覆盖报告护城河稳固平台化发展未来可期-2020042722页',\n",
       " '公司研究伊利股份-基本面稳定短期存在盈利弹性-21012816页',\n",
       " '公司研究伊利股份-深度报告乳业航母问鼎全球-21060451页',\n",
       " '公司研究伊利股份-深度报告优秀管理助力长跑胜出净利率有望重回上升通道-2020010831页',\n",
       " '公司研究伊利股份-深度报告原奶价格持续上涨龙头企业强者恒强-21031221页',\n",
       " '公司研究伊利股份-领先恢复龙头投资价值凸显-2020070321页',\n",
       " '公司研究千味央厨-公司新股分析聚焦餐饮优质赛道兼具稳定性和成长性-21022017页',\n",
       " '公司研究广联达-复盘报告云化及平台化之路-2020073133页',\n",
       " '公司研究广联达-施工业务增速将回升-21032418页',\n",
       " '公司研究广联达-波士顿产品矩阵接力成长-2020082139页',\n",
       " '公司研究广联达-深度报告云图已现决胜蓝海-2020011034页',\n",
       " '公司研究广联达-造价业务转型加速推进施工业务整合效应初显-2020032615页',\n",
       " '公司研究广联达-首次覆盖造价施工业务为基向建筑信息化龙头平台迈进-2020093033页',\n",
       " '公司研究青鸟消防-行业景气度上行市占率提升云服务模式创新会不会是下一个广联达-2020110930页',\n",
       " '内蒙古伊利实业集团股份有限公司2022年年度报告264页',\n",
       " '内蒙古伊利实业集团股份有限公司2023年半年度报告212页',\n",
       " '内蒙古伊利实业集团股份有限公司2023年第一季度报告19页',\n",
       " '内蒙古伊利实业集团股份有限公司2023年第三季度报告19页',\n",
       " '凌云股份-公司深度研究报告热成型电池盒双轮驱动传感器加速布局-25071427页',\n",
       " '千味央厨-产品与渠道优势领先2B蓝海领航者-22071837页',\n",
       " '千味央厨-公司深度分析千滋百味厨师之选-22041226页',\n",
       " '千味央厨-公司深度分析立足餐供市场拓展速冻米面新维度-22081221页',\n",
       " '千味央厨-公司深度报告场景化思维导向深度绑定大客户-21122819页',\n",
       " '千味央厨-公司深度报告打造央厨之道服务千万餐饮-22121364页',\n",
       " '千味央厨-公司深度报告新品与渠道双轮驱动打开成长空间-23072461页',\n",
       " '千味央厨-公司深度报告深耕蓝海鹏程万里-22110953页',\n",
       " '千味央厨-公司深度报告深耕餐饮供应链借力上市迎风成长-21090634页',\n",
       " '千味央厨-公司深度报告深耕餐饮供应链厚积薄发大小B双轮驱动共筑高成长-23062827页',\n",
       " '千味央厨-公司深度研究千家餐饮之选味触万户之心-22122234页',\n",
       " '千味央厨-公司研究报告-大小B双轮驱动餐饮市场大有可为-23061240页',\n",
       " '千味央厨-公司研究报告-深耕餐饮供应链为人间千味-23011258页',\n",
       " '千味央厨-公司研究报告-餐供米面龙头大小B梯次突破-24011120页',\n",
       " '千味央厨-公司首次覆盖餐饮供应链龙头只为优厨之选-22052936页',\n",
       " '千味央厨-兼具确定性与成长性的速冻面米制品B端龙头-22042629页',\n",
       " '千味央厨-再论千味产业角色定位精准无惧竞争大有可为-22092632页',\n",
       " '千味央厨-千寻百味乘势而上-22122726页',\n",
       " '千味央厨-千滋百味央供众厨-22040638页',\n",
       " '千味央厨-厨之道央泱食材中有千味结-21090631页',\n",
       " '千味央厨-投资价值分析报告千滋百味不忘厨心-21082030页',\n",
       " '千味央厨-投资价值分析报告滴水穿石觅百厨千味-22021137页',\n",
       " '千味央厨-数十载深耕速冻米面洞察需求定位B端-21090931页',\n",
       " '千味央厨-新股分析报告细分行业新龙头引领餐饮工业化-21082541页',\n",
       " '千味央厨-柔性定制成就舌尖万味服务能力领跑业界央厨-21092423页',\n",
       " '千味央厨-深度报告深耕B端抢占蓝海-21090629页',\n",
       " '千味央厨-深度报告深耕餐饮渠道研发助力发展-22033022页',\n",
       " '千味央厨-深度报告速冻B端优势企业借餐饮长风乘势而起-21090728页',\n",
       " '千味央厨-深度研究报告聚焦B端蓝海扬帆-22051936页',\n",
       " '千味央厨-百味千寻餐饮供应链龙头正崛起-21091628页',\n",
       " '千味央厨-稳定成长兼具千味奋进正当时-22051927页',\n",
       " '千味央厨-系列报告之一双轮齐增长央厨供四方-22021720页',\n",
       " '千味央厨-系列报告之二三大优势助力腾飞-22062217页',\n",
       " '千味央厨-餐饮端速冻先行者业绩增长路径明确-21081828页',\n",
       " '千味央厨-餐饮速冻米面研究兼千味三全安井比较和而不同静待花开-21090626页',\n",
       " '千味央厨-首次覆盖报告受益餐饮工业化趋势大B端壁垒赋能小B端降维打击-22052929页',\n",
       " '千味央厨-首次覆盖报告餐饮工业东风起B端蓝海乘风上-21112828页',\n",
       " '千味央厨公司研究报告中国领先的餐饮渠道速冻面米制品供应商34页',\n",
       " '协鑫能科-公司研究报告-清洁电力运营商率先探索新能源RWA-25071516页',\n",
       " '卫星化学-公司研究报告-烯烃增量渐近高端新材料引领成长-25071434页',\n",
       " '好未来-美股公司研究报告-稀缺K12教培龙头修复正当时-25071121页',\n",
       " '广联达-二次创业关键节点短中长期看好公司价值-21102062页',\n",
       " '广联达-云计算稀缺龙头迎收入利润率双升-21080125页',\n",
       " '广联达-公司动态报告触底反转向AI而生-25060315页',\n",
       " '广联达-公司深度报告四小龙有望成为施工百亿市场增长引擎-24050531页',\n",
       " '广联达-公司深度报告大踏步走向云化第二阶段新成本平台激活客户数据价值-23020223页',\n",
       " '广联达-公司深度报告开启新增长极-22022246页',\n",
       " '广联达-公司深度报告拥抱建筑数字化拐点SaaS龙头星辰大海刚启航-2022040535页',\n",
       " '广联达-公司深度报告数字建筑全生命周期解决方案领军者-24041638页',\n",
       " '广联达-公司深度报告走在修复的道路上-25062521页',\n",
       " '广联达-公司研究-大模型助力智慧建筑未来可期新成本产品加倍云收入空间-23032619页',\n",
       " '广联达-公司研究报告-造价为盾施工为矛剑指一体化数字建筑平台-23011330页',\n",
       " '广联达-再谈广联达当前时点下如何看待其三条增长曲线-220217131页',\n",
       " '广联达-国产数字建筑龙头建筑产业转型升级核心引擎-22082919页',\n",
       " '广联达-工业软件深度研究报告长期空间与价值有望重估-22080921页',\n",
       " '广联达-探寻造价估值安全边际数字建筑一体化打开成长空间-22061233页',\n",
       " '广联达-数字经济SaaS专题广联达深度报告数字建筑领军战略驱动成长-2022040131页',\n",
       " '广联达-波士顿矩阵重磅升级施工收入能稳定25吗-22040519页',\n",
       " '广联达-深入核心工业软件新成长曲线开启-21102012页',\n",
       " '广联达-深度复盘系列三乘云而上再谱华章历史行情复盘-22060933页',\n",
       " '广联达-深度报告造价云转型逐步迎来收获期施工设计进一步打开成长空间-2021101919页',\n",
       " '广联达-深度报告造价施工设计业务齐发力打造数字建筑平台服务龙头-2022021133页',\n",
       " '广联达-深度研究系列之二全面布局数字设计开启第三增长曲线-21071531页',\n",
       " '广联达-深度跟踪报告数字建筑一体化领军-21082339页',\n",
       " '广联达-深度跟踪报告设计助推数字建筑一体化落地-22031838页',\n",
       " '广联达-跟踪报告数字建筑龙头五问五答-21120815页',\n",
       " '广联达-造价云化成果显著数字施工行稳致远-22112854页',\n",
       " '广联达-造价筑底施工决胜-22041233页',\n",
       " '影石创新-公司研究报告-高速成长的全景相机全球龙头-25071437页',\n",
       " '徐工机械-公司深度研究锦程新章启登高望远行-25071646页',\n",
       " '微光股份-公司首次覆盖深度报告电机主业地位稳固机器人打造增长新引擎-25071418页',\n",
       " '普洛药业-公司研究报告-华丽蜕变跻身国内CDMO头部梯队-25071722页',\n",
       " '晶方科技-公司研究报告-WLCSP先进封装龙头车载CIS需求扩张带来增长新动能-25071441页',\n",
       " '机械行业深度研究报告检测环节贯穿半导体产业链始终专业化分工下第三方检测空间广阔-25071622页',\n",
       " '极兔速递W-港股公司研究报告-系列一东南亚十年磨砺终成锋产业经营双拐点-25070834页',\n",
       " '水星家纺-公司首次覆盖报告家纺龙头推陈出新深化大单品战略助力全品类发展-25071027页',\n",
       " '石基信息-公司深度报告SaaS为王剑指全球酒店市场下一个广联达-2021112352页',\n",
       " '研报食品饮料行业关注酱酒崛起新趋势乳业板块推荐伊利股份-2020111613页',\n",
       " '美团闪购伊利2022即时零售常温乳品白皮书42页',\n",
       " '耀才证券金融-港股公司研究报告-港股贝塔下的LocalKing蚂蚁要约收购打开成长天花板-25071516页',\n",
       " '联邦制药-港股公司研究报告-创新突破三靶点战略联姻诺和诺德-25071225页',\n",
       " '艾力斯-公司深度报告商业化成绩显著产品矩阵持续拓宽-25070718页',\n",
       " '莲花控股-公司研究报告-调味品龙头跨界智算双轮驱动开启增长新纪元-25071740页',\n",
       " '蓝思科技-公司研究报告-精密制造平台化龙头AI驱动引领成长-25071131页',\n",
       " '蓝思科技-港股公司首次覆盖新一轮创新周期催化成长机遇-25071418页',\n",
       " '财新2018年10月伊利中国消费升级指数报告18页',\n",
       " '连连数字-港股公司研究报告-全球化牌照与稳定币创新双轮驱动跨境支付巨头迎盈利拐点-25071428页',\n",
       " '隆盛科技-公司首次覆盖报告EGR与电机铁芯龙头人形机器人核心部件打造第二成长曲线-25071435页',\n",
       " '香农芯创-公司研究报告-存储需求扩张分销产品业务双受益-25071523页']"
      ]
     },
     "execution_count": 6,
     "metadata": {},
     "output_type": "execute_result"
    }
   ],
   "source": [
    "import os\n",
    "\n",
    "os.listdir('../output')"
   ]
  },
  {
   "cell_type": "code",
   "execution_count": null,
   "id": "892075c8",
   "metadata": {},
   "outputs": [],
   "source": []
  },
  {
   "cell_type": "code",
   "execution_count": null,
   "id": "81ff2a30",
   "metadata": {},
   "outputs": [],
   "source": []
  },
  {
   "cell_type": "code",
   "execution_count": null,
   "id": "3a6e28ec",
   "metadata": {},
   "outputs": [],
   "source": []
  },
  {
   "cell_type": "code",
   "execution_count": null,
   "id": "7c8df751",
   "metadata": {},
   "outputs": [],
   "source": []
  },
  {
   "cell_type": "code",
   "execution_count": 11,
   "id": "aa03cf38",
   "metadata": {},
   "outputs": [],
   "source": [
    "import sys\n",
    "\n",
    "sys.path.append('../')"
   ]
  },
  {
   "cell_type": "code",
   "execution_count": 12,
   "id": "7e76404e",
   "metadata": {},
   "outputs": [],
   "source": [
    "import os\n",
    "from dotenv import load_dotenv\n",
    "\n",
    "from langchain_openai import ChatOpenAI, OpenAIEmbeddings\n",
    "\n",
    "load_dotenv()\n",
    "\n",
    "_embed_model = OpenAIEmbeddings(\n",
    "        api_key=os.getenv(\"BL_API_KEY\"),\n",
    "        base_url=os.getenv(\"BL_BASE_URL\"),\n",
    "        model=\"text-embedding-v4\",\n",
    "        dimensions=1024,\n",
    "        check_embedding_ctx_length=False\n",
    ")\n",
    "_vlm = ChatOpenAI(\n",
    "        api_key=os.getenv(\"BL_API_KEY\"),\n",
    "        base_url=os.getenv(\"BL_BASE_URL\"),\n",
    "        model='qwen-vl-max-2025-08-13',\n",
    "        temperature=0.0\n",
    ")\n",
    "_llm = ChatOpenAI(\n",
    "    api_key=os.getenv(\"BL_API_KEY\"),\n",
    "    base_url=os.getenv(\"BL_BASE_URL\"),\n",
    "    model='qwen-plus-latest',\n",
    "    temperature=0.0\n",
    ")\n",
    "llm_nmk = ChatOpenAI(\n",
    "    api_key=os.getenv(\"BL_API_KEY_NMK1\"),\n",
    "    base_url=os.getenv(\"BL_BASE_URL\"),\n",
    "    model='qwen-plus-latest',\n",
    "    temperature=0.0\n",
    ")"
   ]
  },
  {
   "cell_type": "code",
   "execution_count": 14,
   "id": "35384ab8",
   "metadata": {},
   "outputs": [
    {
     "name": "stderr",
     "output_type": "stream",
     "text": [
      "\u001b[32m2025-08-25 16:03:55.702\u001b[0m | \u001b[1mINFO    \u001b[0m | \u001b[36mmodules.index.index\u001b[0m:\u001b[36mget_index_done\u001b[0m:\u001b[36m104\u001b[0m - \u001b[1mmrag 向量数据库已存在，成功加载到内存中\u001b[0m\n"
     ]
    }
   ],
   "source": [
    "from modules.index.index import Index\n",
    "\n",
    "mrag_index = Index(\n",
    "        files_path=[''],\n",
    "        embed_model=_embed_model,\n",
    "        vlm=_vlm,\n",
    "        llm=_llm,\n",
    "        llm_nmk=llm_nmk,\n",
    "        vector_store_name='mrag'\n",
    "    )\n",
    "\n",
    "mrag_index.get_index_done()"
   ]
  },
  {
   "cell_type": "code",
   "execution_count": 16,
   "id": "1aaf7755",
   "metadata": {},
   "outputs": [],
   "source": [
    "# 获得 Naive RAG 图\n",
    "from naive_rag.workflow import get_naive_rag_workflow\n",
    "from modules.retriever import Retriever\n",
    "\n",
    "from langgraph.checkpoint.memory import MemorySaver\n",
    "\n",
    "# 获得带有短期记忆的 Naive RAG 图\n",
    "memory = MemorySaver()\n",
    "naive_rag_wf = get_naive_rag_workflow()\n",
    "# naive_rag = naive_rag_wf.compile(checkpointer=memory)\n",
    "naive_rag = naive_rag_wf.compile()\n",
    "\n",
    "# 定义检索器\n",
    "rerank_model_retriever = Retriever(\n",
    "    vector_store=mrag_index.vector_store,\n",
    "    topk=3,\n",
    "    filter_='page > \"0\"',\n",
    "    search_fields=['dense', 'sparse'],\n",
    "    search_type='hybrid',\n",
    "    search_params=[\n",
    "        {'metric_type': 'L2', 'params': {'ef': 21}},\n",
    "        {'params': {'drop_ratio_search': 0.2}}\n",
    "    ],\n",
    "    ranker_type='model',\n",
    "    ranker_params={\n",
    "        'model_name': 'gte-rerank-v2',\n",
    "        'pre_topk': 10,\n",
    "        'pre_ranker_type': 'rrf',\n",
    "        'pre_ranker_params': {'k': 60}  # 定义粗排所使用的重排序参数，粗排只能使用 weighted 或 rrf\n",
    "    }\n",
    ")\n",
    "\n",
    "# 定义运行时配置\n",
    "config = {\n",
    "    'configurable': {\n",
    "        'retriever': rerank_model_retriever,\n",
    "        'llm': llm_nmk,\n",
    "        # 'thread_id': '-1'\n",
    "    }\n",
    "}"
   ]
  },
  {
   "cell_type": "code",
   "execution_count": 18,
   "id": "9825df6a",
   "metadata": {},
   "outputs": [
    {
     "data": {
      "text/plain": [
       "806"
      ]
     },
     "execution_count": 18,
     "metadata": {},
     "output_type": "execute_result"
    }
   ],
   "source": [
    "import json\n",
    "\n",
    "test_file_path = './test.json'\n",
    "with open(test_file_path, 'r', encoding='utf-8') as f:\n",
    "    queries = json.load(f)\n",
    "\n",
    "len(queries)"
   ]
  },
  {
   "cell_type": "code",
   "execution_count": 26,
   "id": "950d5d50",
   "metadata": {},
   "outputs": [],
   "source": [
    "from typing import List, TypedDict\n",
    "from langgraph.graph import START, StateGraph, END\n",
    "from langgraph.graph.state import Send\n",
    "\n",
    "class SendState(TypedDict):\n",
    "    queries: List[str]\n",
    "\n",
    "def tmp():\n",
    "    pass\n",
    "\n",
    "def send_queries(state: SendState):\n",
    "    for i in range(0, len(state['queries']), 10):\n",
    "        cur_queries = state['queries'][i:i+10]\n",
    "        return [\n",
    "            Send(\n",
    "                ['naive_rag'],\n",
    "                {\n",
    "                    'query': query,\n",
    "                }\n",
    "            )\n",
    "            for query in cur_queries\n",
    "        ]\n",
    "\n",
    "send_wf = StateGraph(StateGraph)\n",
    "\n",
    "send_wf.add_node('tmp', tmp)\n",
    "send_wf.add_node('naive_rag', naive_rag)\n",
    "\n",
    "send_wf.add_edge(START, 'tmp')\n",
    "send_wf.add_conditional_edges(\n",
    "    'tmp',\n",
    "    send_queries,\n",
    "    ['naive_rag']\n",
    ")\n",
    "send_wf.add_edge('naive_rag', END)\n",
    "\n",
    "g = send_wf.compile()\n"
   ]
  },
  {
   "cell_type": "code",
   "execution_count": 27,
   "id": "115d9387",
   "metadata": {},
   "outputs": [
    {
     "ename": "InvalidUpdateError",
     "evalue": "Must write to at least one of ['nodes', 'channels', 'managed', 'schemas']",
     "output_type": "error",
     "traceback": [
      "\u001b[1;31m---------------------------------------------------------------------------\u001b[0m",
      "\u001b[1;31mInvalidUpdateError\u001b[0m                        Traceback (most recent call last)",
      "Cell \u001b[1;32mIn[27], line 1\u001b[0m\n\u001b[1;32m----> 1\u001b[0m \u001b[43mg\u001b[49m\u001b[38;5;241;43m.\u001b[39;49m\u001b[43minvoke\u001b[49m\u001b[43m(\u001b[49m\n\u001b[0;32m      2\u001b[0m \u001b[43m    \u001b[49m\u001b[38;5;28;43minput\u001b[39;49m\u001b[38;5;241;43m=\u001b[39;49m\u001b[43m{\u001b[49m\u001b[38;5;124;43m'\u001b[39;49m\u001b[38;5;124;43mqueries\u001b[39;49m\u001b[38;5;124;43m'\u001b[39;49m\u001b[43m:\u001b[49m\u001b[43m \u001b[49m\u001b[43mqueries\u001b[49m\u001b[43m[\u001b[49m\u001b[43m:\u001b[49m\u001b[38;5;241;43m10\u001b[39;49m\u001b[43m]\u001b[49m\u001b[43m}\u001b[49m\u001b[43m,\u001b[49m\n\u001b[0;32m      3\u001b[0m \u001b[43m    \u001b[49m\u001b[43mconfig\u001b[49m\u001b[38;5;241;43m=\u001b[39;49m\u001b[43mconfig\u001b[49m\n\u001b[0;32m      4\u001b[0m \u001b[43m)\u001b[49m\n",
      "File \u001b[1;32md:\\NMK\\Anaconda\\envs\\llm\\Lib\\site-packages\\langgraph\\pregel\\__init__.py:2069\u001b[0m, in \u001b[0;36mPregel.invoke\u001b[1;34m(self, input, config, stream_mode, output_keys, interrupt_before, interrupt_after, debug, **kwargs)\u001b[0m\n\u001b[0;32m   2067\u001b[0m \u001b[38;5;28;01melse\u001b[39;00m:\n\u001b[0;32m   2068\u001b[0m     chunks \u001b[38;5;241m=\u001b[39m []\n\u001b[1;32m-> 2069\u001b[0m \u001b[43m\u001b[49m\u001b[38;5;28;43;01mfor\u001b[39;49;00m\u001b[43m \u001b[49m\u001b[43mchunk\u001b[49m\u001b[43m \u001b[49m\u001b[38;5;129;43;01min\u001b[39;49;00m\u001b[43m \u001b[49m\u001b[38;5;28;43mself\u001b[39;49m\u001b[38;5;241;43m.\u001b[39;49m\u001b[43mstream\u001b[49m\u001b[43m(\u001b[49m\n\u001b[0;32m   2070\u001b[0m \u001b[43m    \u001b[49m\u001b[38;5;28;43minput\u001b[39;49m\u001b[43m,\u001b[49m\n\u001b[0;32m   2071\u001b[0m \u001b[43m    \u001b[49m\u001b[43mconfig\u001b[49m\u001b[43m,\u001b[49m\n\u001b[0;32m   2072\u001b[0m \u001b[43m    \u001b[49m\u001b[43mstream_mode\u001b[49m\u001b[38;5;241;43m=\u001b[39;49m\u001b[43mstream_mode\u001b[49m\u001b[43m,\u001b[49m\n\u001b[0;32m   2073\u001b[0m \u001b[43m    \u001b[49m\u001b[43moutput_keys\u001b[49m\u001b[38;5;241;43m=\u001b[39;49m\u001b[43moutput_keys\u001b[49m\u001b[43m,\u001b[49m\n\u001b[0;32m   2074\u001b[0m \u001b[43m    \u001b[49m\u001b[43minterrupt_before\u001b[49m\u001b[38;5;241;43m=\u001b[39;49m\u001b[43minterrupt_before\u001b[49m\u001b[43m,\u001b[49m\n\u001b[0;32m   2075\u001b[0m \u001b[43m    \u001b[49m\u001b[43minterrupt_after\u001b[49m\u001b[38;5;241;43m=\u001b[39;49m\u001b[43minterrupt_after\u001b[49m\u001b[43m,\u001b[49m\n\u001b[0;32m   2076\u001b[0m \u001b[43m    \u001b[49m\u001b[43mdebug\u001b[49m\u001b[38;5;241;43m=\u001b[39;49m\u001b[43mdebug\u001b[49m\u001b[43m,\u001b[49m\n\u001b[0;32m   2077\u001b[0m \u001b[43m    \u001b[49m\u001b[38;5;241;43m*\u001b[39;49m\u001b[38;5;241;43m*\u001b[39;49m\u001b[43mkwargs\u001b[49m\u001b[43m,\u001b[49m\n\u001b[0;32m   2078\u001b[0m \u001b[43m\u001b[49m\u001b[43m)\u001b[49m\u001b[43m:\u001b[49m\n\u001b[0;32m   2079\u001b[0m \u001b[43m    \u001b[49m\u001b[38;5;28;43;01mif\u001b[39;49;00m\u001b[43m \u001b[49m\u001b[43mstream_mode\u001b[49m\u001b[43m \u001b[49m\u001b[38;5;241;43m==\u001b[39;49m\u001b[43m \u001b[49m\u001b[38;5;124;43m\"\u001b[39;49m\u001b[38;5;124;43mvalues\u001b[39;49m\u001b[38;5;124;43m\"\u001b[39;49m\u001b[43m:\u001b[49m\n\u001b[0;32m   2080\u001b[0m \u001b[43m        \u001b[49m\u001b[43mlatest\u001b[49m\u001b[43m \u001b[49m\u001b[38;5;241;43m=\u001b[39;49m\u001b[43m \u001b[49m\u001b[43mchunk\u001b[49m\n",
      "File \u001b[1;32md:\\NMK\\Anaconda\\envs\\llm\\Lib\\site-packages\\langgraph\\pregel\\__init__.py:1724\u001b[0m, in \u001b[0;36mPregel.stream\u001b[1;34m(self, input, config, stream_mode, output_keys, interrupt_before, interrupt_after, debug, subgraphs)\u001b[0m\n\u001b[0;32m   1718\u001b[0m     \u001b[38;5;66;03m# Similarly to Bulk Synchronous Parallel / Pregel model\u001b[39;00m\n\u001b[0;32m   1719\u001b[0m     \u001b[38;5;66;03m# computation proceeds in steps, while there are channel updates.\u001b[39;00m\n\u001b[0;32m   1720\u001b[0m     \u001b[38;5;66;03m# Channel updates from step N are only visible in step N+1\u001b[39;00m\n\u001b[0;32m   1721\u001b[0m     \u001b[38;5;66;03m# channels are guaranteed to be immutable for the duration of the step,\u001b[39;00m\n\u001b[0;32m   1722\u001b[0m     \u001b[38;5;66;03m# with channel updates applied only at the transition between steps.\u001b[39;00m\n\u001b[0;32m   1723\u001b[0m     \u001b[38;5;28;01mwhile\u001b[39;00m loop\u001b[38;5;241m.\u001b[39mtick(input_keys\u001b[38;5;241m=\u001b[39m\u001b[38;5;28mself\u001b[39m\u001b[38;5;241m.\u001b[39minput_channels):\n\u001b[1;32m-> 1724\u001b[0m \u001b[43m        \u001b[49m\u001b[38;5;28;43;01mfor\u001b[39;49;00m\u001b[43m \u001b[49m\u001b[43m_\u001b[49m\u001b[43m \u001b[49m\u001b[38;5;129;43;01min\u001b[39;49;00m\u001b[43m \u001b[49m\u001b[43mrunner\u001b[49m\u001b[38;5;241;43m.\u001b[39;49m\u001b[43mtick\u001b[49m\u001b[43m(\u001b[49m\n\u001b[0;32m   1725\u001b[0m \u001b[43m            \u001b[49m\u001b[43mloop\u001b[49m\u001b[38;5;241;43m.\u001b[39;49m\u001b[43mtasks\u001b[49m\u001b[38;5;241;43m.\u001b[39;49m\u001b[43mvalues\u001b[49m\u001b[43m(\u001b[49m\u001b[43m)\u001b[49m\u001b[43m,\u001b[49m\n\u001b[0;32m   1726\u001b[0m \u001b[43m            \u001b[49m\u001b[43mtimeout\u001b[49m\u001b[38;5;241;43m=\u001b[39;49m\u001b[38;5;28;43mself\u001b[39;49m\u001b[38;5;241;43m.\u001b[39;49m\u001b[43mstep_timeout\u001b[49m\u001b[43m,\u001b[49m\n\u001b[0;32m   1727\u001b[0m \u001b[43m            \u001b[49m\u001b[43mretry_policy\u001b[49m\u001b[38;5;241;43m=\u001b[39;49m\u001b[38;5;28;43mself\u001b[39;49m\u001b[38;5;241;43m.\u001b[39;49m\u001b[43mretry_policy\u001b[49m\u001b[43m,\u001b[49m\n\u001b[0;32m   1728\u001b[0m \u001b[43m            \u001b[49m\u001b[43mget_waiter\u001b[49m\u001b[38;5;241;43m=\u001b[39;49m\u001b[43mget_waiter\u001b[49m\u001b[43m,\u001b[49m\n\u001b[0;32m   1729\u001b[0m \u001b[43m        \u001b[49m\u001b[43m)\u001b[49m\u001b[43m:\u001b[49m\n\u001b[0;32m   1730\u001b[0m \u001b[43m            \u001b[49m\u001b[38;5;66;43;03m# emit output\u001b[39;49;00m\n\u001b[0;32m   1731\u001b[0m \u001b[43m            \u001b[49m\u001b[38;5;28;43;01myield from\u001b[39;49;00m\u001b[43m \u001b[49m\u001b[43moutput\u001b[49m\u001b[43m(\u001b[49m\u001b[43m)\u001b[49m\n\u001b[0;32m   1732\u001b[0m \u001b[38;5;66;03m# emit output\u001b[39;00m\n",
      "File \u001b[1;32md:\\NMK\\Anaconda\\envs\\llm\\Lib\\site-packages\\langgraph\\pregel\\runner.py:230\u001b[0m, in \u001b[0;36mPregelRunner.tick\u001b[1;34m(self, tasks, reraise, timeout, retry_policy, get_waiter)\u001b[0m\n\u001b[0;32m    228\u001b[0m t \u001b[38;5;241m=\u001b[39m tasks[\u001b[38;5;241m0\u001b[39m]\n\u001b[0;32m    229\u001b[0m \u001b[38;5;28;01mtry\u001b[39;00m:\n\u001b[1;32m--> 230\u001b[0m     \u001b[43mrun_with_retry\u001b[49m\u001b[43m(\u001b[49m\n\u001b[0;32m    231\u001b[0m \u001b[43m        \u001b[49m\u001b[43mt\u001b[49m\u001b[43m,\u001b[49m\n\u001b[0;32m    232\u001b[0m \u001b[43m        \u001b[49m\u001b[43mretry_policy\u001b[49m\u001b[43m,\u001b[49m\n\u001b[0;32m    233\u001b[0m \u001b[43m        \u001b[49m\u001b[43mconfigurable\u001b[49m\u001b[38;5;241;43m=\u001b[39;49m\u001b[43m{\u001b[49m\n\u001b[0;32m    234\u001b[0m \u001b[43m            \u001b[49m\u001b[43mCONFIG_KEY_SEND\u001b[49m\u001b[43m:\u001b[49m\u001b[43m \u001b[49m\u001b[43mpartial\u001b[49m\u001b[43m(\u001b[49m\u001b[43mwriter\u001b[49m\u001b[43m,\u001b[49m\u001b[43m \u001b[49m\u001b[43mt\u001b[49m\u001b[43m)\u001b[49m\u001b[43m,\u001b[49m\n\u001b[0;32m    235\u001b[0m \u001b[43m            \u001b[49m\u001b[43mCONFIG_KEY_CALL\u001b[49m\u001b[43m:\u001b[49m\u001b[43m \u001b[49m\u001b[43mpartial\u001b[49m\u001b[43m(\u001b[49m\u001b[43mcall\u001b[49m\u001b[43m,\u001b[49m\u001b[43m \u001b[49m\u001b[43mt\u001b[49m\u001b[43m)\u001b[49m\u001b[43m,\u001b[49m\n\u001b[0;32m    236\u001b[0m \u001b[43m        \u001b[49m\u001b[43m}\u001b[49m\u001b[43m,\u001b[49m\n\u001b[0;32m    237\u001b[0m \u001b[43m    \u001b[49m\u001b[43m)\u001b[49m\n\u001b[0;32m    238\u001b[0m     \u001b[38;5;28mself\u001b[39m\u001b[38;5;241m.\u001b[39mcommit(t, \u001b[38;5;28;01mNone\u001b[39;00m)\n\u001b[0;32m    239\u001b[0m \u001b[38;5;28;01mexcept\u001b[39;00m \u001b[38;5;167;01mException\u001b[39;00m \u001b[38;5;28;01mas\u001b[39;00m exc:\n",
      "File \u001b[1;32md:\\NMK\\Anaconda\\envs\\llm\\Lib\\site-packages\\langgraph\\pregel\\retry.py:40\u001b[0m, in \u001b[0;36mrun_with_retry\u001b[1;34m(task, retry_policy, configurable)\u001b[0m\n\u001b[0;32m     38\u001b[0m     task\u001b[38;5;241m.\u001b[39mwrites\u001b[38;5;241m.\u001b[39mclear()\n\u001b[0;32m     39\u001b[0m     \u001b[38;5;66;03m# run the task\u001b[39;00m\n\u001b[1;32m---> 40\u001b[0m     \u001b[38;5;28;01mreturn\u001b[39;00m \u001b[43mtask\u001b[49m\u001b[38;5;241;43m.\u001b[39;49m\u001b[43mproc\u001b[49m\u001b[38;5;241;43m.\u001b[39;49m\u001b[43minvoke\u001b[49m\u001b[43m(\u001b[49m\u001b[43mtask\u001b[49m\u001b[38;5;241;43m.\u001b[39;49m\u001b[43minput\u001b[49m\u001b[43m,\u001b[49m\u001b[43m \u001b[49m\u001b[43mconfig\u001b[49m\u001b[43m)\u001b[49m\n\u001b[0;32m     41\u001b[0m \u001b[38;5;28;01mexcept\u001b[39;00m ParentCommand \u001b[38;5;28;01mas\u001b[39;00m exc:\n\u001b[0;32m     42\u001b[0m     ns: \u001b[38;5;28mstr\u001b[39m \u001b[38;5;241m=\u001b[39m config[CONF][CONFIG_KEY_CHECKPOINT_NS]\n",
      "File \u001b[1;32md:\\NMK\\Anaconda\\envs\\llm\\Lib\\site-packages\\langgraph\\utils\\runnable.py:506\u001b[0m, in \u001b[0;36mRunnableSeq.invoke\u001b[1;34m(self, input, config, **kwargs)\u001b[0m\n\u001b[0;32m    502\u001b[0m config \u001b[38;5;241m=\u001b[39m patch_config(\n\u001b[0;32m    503\u001b[0m     config, callbacks\u001b[38;5;241m=\u001b[39mrun_manager\u001b[38;5;241m.\u001b[39mget_child(\u001b[38;5;124mf\u001b[39m\u001b[38;5;124m\"\u001b[39m\u001b[38;5;124mseq:step:\u001b[39m\u001b[38;5;132;01m{\u001b[39;00mi\u001b[38;5;250m \u001b[39m\u001b[38;5;241m+\u001b[39m\u001b[38;5;250m \u001b[39m\u001b[38;5;241m1\u001b[39m\u001b[38;5;132;01m}\u001b[39;00m\u001b[38;5;124m\"\u001b[39m)\n\u001b[0;32m    504\u001b[0m )\n\u001b[0;32m    505\u001b[0m \u001b[38;5;28;01mif\u001b[39;00m i \u001b[38;5;241m==\u001b[39m \u001b[38;5;241m0\u001b[39m:\n\u001b[1;32m--> 506\u001b[0m     \u001b[38;5;28minput\u001b[39m \u001b[38;5;241m=\u001b[39m \u001b[43mstep\u001b[49m\u001b[38;5;241;43m.\u001b[39;49m\u001b[43minvoke\u001b[49m\u001b[43m(\u001b[49m\u001b[38;5;28;43minput\u001b[39;49m\u001b[43m,\u001b[49m\u001b[43m \u001b[49m\u001b[43mconfig\u001b[49m\u001b[43m,\u001b[49m\u001b[43m \u001b[49m\u001b[38;5;241;43m*\u001b[39;49m\u001b[38;5;241;43m*\u001b[39;49m\u001b[43mkwargs\u001b[49m\u001b[43m)\u001b[49m\n\u001b[0;32m    507\u001b[0m \u001b[38;5;28;01melse\u001b[39;00m:\n\u001b[0;32m    508\u001b[0m     \u001b[38;5;28minput\u001b[39m \u001b[38;5;241m=\u001b[39m step\u001b[38;5;241m.\u001b[39minvoke(\u001b[38;5;28minput\u001b[39m, config)\n",
      "File \u001b[1;32md:\\NMK\\Anaconda\\envs\\llm\\Lib\\site-packages\\langgraph\\utils\\runnable.py:262\u001b[0m, in \u001b[0;36mRunnableCallable.invoke\u001b[1;34m(self, input, config, **kwargs)\u001b[0m\n\u001b[0;32m    260\u001b[0m     context \u001b[38;5;241m=\u001b[39m copy_context()\n\u001b[0;32m    261\u001b[0m     context\u001b[38;5;241m.\u001b[39mrun(_set_config_context, child_config)\n\u001b[1;32m--> 262\u001b[0m     ret \u001b[38;5;241m=\u001b[39m \u001b[43mcontext\u001b[49m\u001b[38;5;241;43m.\u001b[39;49m\u001b[43mrun\u001b[49m\u001b[43m(\u001b[49m\u001b[38;5;28;43mself\u001b[39;49m\u001b[38;5;241;43m.\u001b[39;49m\u001b[43mfunc\u001b[49m\u001b[43m,\u001b[49m\u001b[43m \u001b[49m\u001b[38;5;241;43m*\u001b[39;49m\u001b[43margs\u001b[49m\u001b[43m,\u001b[49m\u001b[43m \u001b[49m\u001b[38;5;241;43m*\u001b[39;49m\u001b[38;5;241;43m*\u001b[39;49m\u001b[43mkwargs\u001b[49m\u001b[43m)\u001b[49m\n\u001b[0;32m    263\u001b[0m \u001b[38;5;28;01mexcept\u001b[39;00m \u001b[38;5;167;01mBaseException\u001b[39;00m \u001b[38;5;28;01mas\u001b[39;00m e:\n\u001b[0;32m    264\u001b[0m     run_manager\u001b[38;5;241m.\u001b[39mon_chain_error(e)\n",
      "File \u001b[1;32md:\\NMK\\Anaconda\\envs\\llm\\Lib\\site-packages\\langgraph\\pregel\\write.py:96\u001b[0m, in \u001b[0;36mChannelWrite._write\u001b[1;34m(self, input, config)\u001b[0m\n\u001b[0;32m     87\u001b[0m \u001b[38;5;28;01mdef\u001b[39;00m \u001b[38;5;21m_write\u001b[39m(\u001b[38;5;28mself\u001b[39m, \u001b[38;5;28minput\u001b[39m: Any, config: RunnableConfig) \u001b[38;5;241m-\u001b[39m\u001b[38;5;241m>\u001b[39m \u001b[38;5;28;01mNone\u001b[39;00m:\n\u001b[0;32m     88\u001b[0m     writes \u001b[38;5;241m=\u001b[39m [\n\u001b[0;32m     89\u001b[0m         ChannelWriteEntry(write\u001b[38;5;241m.\u001b[39mchannel, \u001b[38;5;28minput\u001b[39m, write\u001b[38;5;241m.\u001b[39mskip_none, write\u001b[38;5;241m.\u001b[39mmapper)\n\u001b[0;32m     90\u001b[0m         \u001b[38;5;28;01mif\u001b[39;00m \u001b[38;5;28misinstance\u001b[39m(write, ChannelWriteEntry) \u001b[38;5;129;01mand\u001b[39;00m write\u001b[38;5;241m.\u001b[39mvalue \u001b[38;5;129;01mis\u001b[39;00m PASSTHROUGH\n\u001b[1;32m   (...)\u001b[0m\n\u001b[0;32m     94\u001b[0m         \u001b[38;5;28;01mfor\u001b[39;00m write \u001b[38;5;129;01min\u001b[39;00m \u001b[38;5;28mself\u001b[39m\u001b[38;5;241m.\u001b[39mwrites\n\u001b[0;32m     95\u001b[0m     ]\n\u001b[1;32m---> 96\u001b[0m     \u001b[38;5;28;43mself\u001b[39;49m\u001b[38;5;241;43m.\u001b[39;49m\u001b[43mdo_write\u001b[49m\u001b[43m(\u001b[49m\n\u001b[0;32m     97\u001b[0m \u001b[43m        \u001b[49m\u001b[43mconfig\u001b[49m\u001b[43m,\u001b[49m\n\u001b[0;32m     98\u001b[0m \u001b[43m        \u001b[49m\u001b[43mwrites\u001b[49m\u001b[43m,\u001b[49m\n\u001b[0;32m     99\u001b[0m \u001b[43m        \u001b[49m\u001b[38;5;28;43mself\u001b[39;49m\u001b[38;5;241;43m.\u001b[39;49m\u001b[43mrequire_at_least_one_of\u001b[49m\u001b[43m \u001b[49m\u001b[38;5;28;43;01mif\u001b[39;49;00m\u001b[43m \u001b[49m\u001b[38;5;28;43minput\u001b[39;49m\u001b[43m \u001b[49m\u001b[38;5;129;43;01mis\u001b[39;49;00m\u001b[43m \u001b[49m\u001b[38;5;129;43;01mnot\u001b[39;49;00m\u001b[43m \u001b[49m\u001b[38;5;28;43;01mNone\u001b[39;49;00m\u001b[43m \u001b[49m\u001b[38;5;28;43;01melse\u001b[39;49;00m\u001b[43m \u001b[49m\u001b[38;5;28;43;01mNone\u001b[39;49;00m\u001b[43m,\u001b[49m\n\u001b[0;32m    100\u001b[0m \u001b[43m    \u001b[49m\u001b[43m)\u001b[49m\n\u001b[0;32m    101\u001b[0m     \u001b[38;5;28;01mreturn\u001b[39;00m \u001b[38;5;28minput\u001b[39m\n",
      "File \u001b[1;32md:\\NMK\\Anaconda\\envs\\llm\\Lib\\site-packages\\langgraph\\pregel\\write.py:157\u001b[0m, in \u001b[0;36mChannelWrite.do_write\u001b[1;34m(config, writes, require_at_least_one_of)\u001b[0m\n\u001b[0;32m    155\u001b[0m \u001b[38;5;28;01mif\u001b[39;00m require_at_least_one_of \u001b[38;5;129;01mis\u001b[39;00m \u001b[38;5;129;01mnot\u001b[39;00m \u001b[38;5;28;01mNone\u001b[39;00m:\n\u001b[0;32m    156\u001b[0m     \u001b[38;5;28;01mif\u001b[39;00m \u001b[38;5;129;01mnot\u001b[39;00m {chan \u001b[38;5;28;01mfor\u001b[39;00m chan, _ \u001b[38;5;129;01min\u001b[39;00m tuples} \u001b[38;5;241m&\u001b[39m \u001b[38;5;28mset\u001b[39m(require_at_least_one_of):\n\u001b[1;32m--> 157\u001b[0m         \u001b[38;5;28;01mraise\u001b[39;00m InvalidUpdateError(\n\u001b[0;32m    158\u001b[0m             \u001b[38;5;124mf\u001b[39m\u001b[38;5;124m\"\u001b[39m\u001b[38;5;124mMust write to at least one of \u001b[39m\u001b[38;5;132;01m{\u001b[39;00mrequire_at_least_one_of\u001b[38;5;132;01m}\u001b[39;00m\u001b[38;5;124m\"\u001b[39m\n\u001b[0;32m    159\u001b[0m         )\n\u001b[0;32m    160\u001b[0m write: TYPE_SEND \u001b[38;5;241m=\u001b[39m config[CONF][CONFIG_KEY_SEND]\n\u001b[0;32m    161\u001b[0m write(tuples)\n",
      "\u001b[1;31mInvalidUpdateError\u001b[0m: Must write to at least one of ['nodes', 'channels', 'managed', 'schemas']",
      "\u001b[0mDuring task with name '__start__' and id '70be0e25-0217-8036-403a-20d59ca1d897'"
     ]
    },
    {
     "name": "stderr",
     "output_type": "stream",
     "text": [
      "Failed to multipart ingest runs: langsmith.utils.LangSmithRateLimitError: Rate limit exceeded for https://api.smith.langchain.com/runs/multipart. HTTPError('429 Client Error: Too Many Requests for url: https://api.smith.langchain.com/runs/multipart', '{\"error\":\"Too many requests: tenant exceeded usage limits: Monthly unique traces usage limit exceeded\"}\\n')trace=adff1023-a859-4a64-9e2c-a8e2a71299b2,id=adff1023-a859-4a64-9e2c-a8e2a71299b2; trace=adff1023-a859-4a64-9e2c-a8e2a71299b2,id=02c489e2-6edd-4582-b373-8cf17a65522b; trace=adff1023-a859-4a64-9e2c-a8e2a71299b2,id=343c2e82-31e4-4ea1-af48-57d6d66ab486\n"
     ]
    }
   ],
   "source": [
    "g.invoke(\n",
    "    input={'queries': queries[:10]},\n",
    "    config=config\n",
    ")"
   ]
  },
  {
   "cell_type": "code",
   "execution_count": null,
   "id": "4187e2fa",
   "metadata": {},
   "outputs": [],
   "source": []
  },
  {
   "cell_type": "code",
   "execution_count": null,
   "id": "82e23f3a",
   "metadata": {},
   "outputs": [],
   "source": []
  },
  {
   "cell_type": "code",
   "execution_count": 1,
   "id": "69d41c3a",
   "metadata": {},
   "outputs": [],
   "source": [
    "import sys\n",
    "\n",
    "sys.path.append('../')"
   ]
  },
  {
   "cell_type": "code",
   "execution_count": 2,
   "id": "ea96c47a",
   "metadata": {},
   "outputs": [],
   "source": [
    "import json\n",
    "from tqdm import tqdm\n",
    "from dotenv import load_dotenv\n",
    "from typing import (\n",
    "    TypedDict,\n",
    "    List\n",
    ")\n",
    "import os\n",
    "\n",
    "from langchain_openai import ChatOpenAI, OpenAIEmbeddings\n",
    "from langchain_milvus import Milvus, BM25BuiltInFunction\n",
    "from langgraph.graph.state import START, StateGraph, END\n",
    "from langgraph.types import Send\n",
    "\n",
    "from naive_rag.workflow import get_naive_rag_workflow\n",
    "from modules.retriever import Retriever\n",
    "\n",
    "load_dotenv()\n",
    "\n",
    "# 定义图的运行时配置\n",
    "# 定义 LLM、vector store、retriever\n",
    "llm = ChatOpenAI(\n",
    "    api_key=os.getenv(\"BL_API_KEY\"),\n",
    "    base_url=os.getenv(\"BL_BASE_URL\"),\n",
    "    model='qwen-plus-latest',\n",
    "    temperature=0.0\n",
    ")\n",
    "embed_model = OpenAIEmbeddings(\n",
    "    api_key=os.getenv(\"BL_API_KEY\"),\n",
    "    base_url=os.getenv(\"BL_BASE_URL\"),\n",
    "    model=\"text-embedding-v4\",\n",
    "    dimensions=1024,\n",
    "    check_embedding_ctx_length=False\n",
    ")\n",
    "# 定义向量场的索引参数\n",
    "dense_index_parma = {\n",
    "    \"metric_type\": \"L2\",\n",
    "    \"index_type\": \"HNSW\",\n",
    "    \"params\": {\n",
    "        \"M\": 64,\n",
    "        \"efConstruction\": 400\n",
    "    }\n",
    "}\n",
    "sparse_index_param = {\n",
    "    \"metric_type\": \"BM25\",\n",
    "    \"index_type\": \"AUTOINDEX\",\n",
    "    \"params\": {}\n",
    "}\n",
    "vector_store = Milvus(\n",
    "    collection_name='mrag',\n",
    "    embedding_function=embed_model,\n",
    "    builtin_function=BM25BuiltInFunction(output_field_names='sparse'),\n",
    "    vector_field=['dense', 'sparse'],\n",
    "    index_params=[dense_index_parma, sparse_index_param]  # 顺序关系是对应的\n",
    ")\n",
    "rerank_model_retriever = Retriever(\n",
    "    vector_store=vector_store,\n",
    "    topk=3,\n",
    "    search_fields=['dense', 'sparse'],\n",
    "    search_type='hybrid',\n",
    "    search_params=[\n",
    "        {'metric_type': 'L2', 'params': {'ef': 21}},\n",
    "        {'params': {'drop_ratio_search': 0.2}}\n",
    "    ],\n",
    "    ranker_type='model',\n",
    "    ranker_params={\n",
    "        'model_name': 'gte-rerank-v2',\n",
    "        'pre_topk': 10,\n",
    "        'pre_ranker_type': 'rrf',\n",
    "        'pre_ranker_params': {'k': 60}  # 定义粗排所使用的重排序参数，粗排只能使用 weighted 或 rrf\n",
    "    }\n",
    ")\n"
   ]
  },
  {
   "cell_type": "code",
   "execution_count": 3,
   "id": "5ecdb308",
   "metadata": {},
   "outputs": [],
   "source": [
    "# 定义一个父图，包裹 Naive RAG\n",
    "class SendState(TypedDict):\n",
    "    queries: List[str]\n",
    "\n",
    "\n",
    "def send_queries(state: SendState):\n",
    "    return [\n",
    "        Send(\n",
    "            'naive_rag',\n",
    "            {\n",
    "                'query': query\n",
    "            }\n",
    "        ) for query in state['queries']\n",
    "    ]\n",
    "\n",
    "def tmp(state: SendState):\n",
    "    return \n",
    "\n",
    "\n",
    "def get_send_workflow():\n",
    "    wf = StateGraph(SendState)\n",
    "\n",
    "    wf.add_node('naive_rag', get_naive_rag_workflow().compile())\n",
    "\n",
    "    # wf.add_edge(START, 'tmp')\n",
    "    wf.add_conditional_edges(\n",
    "        START,\n",
    "        send_queries,\n",
    "        ['naive_rag']\n",
    "    )\n",
    "    wf.add_edge('naive_rag', END)\n",
    "\n",
    "    return wf\n",
    "\n"
   ]
  },
  {
   "cell_type": "code",
   "execution_count": 4,
   "id": "e17c7d45",
   "metadata": {},
   "outputs": [],
   "source": [
    "config = {\n",
    "    'configurable': {\n",
    "        'retriever': rerank_model_retriever,\n",
    "        'llm': llm,\n",
    "    }\n",
    "}\n",
    "\n",
    "# 定义图\n",
    "send_wf = get_send_workflow()\n",
    "graph = send_wf.compile()"
   ]
  },
  {
   "cell_type": "code",
   "execution_count": 5,
   "id": "f831e987",
   "metadata": {},
   "outputs": [
    {
     "data": {
      "image/png": "[encoded data removed]",
      "text/plain": [
       "<IPython.core.display.Image object>"
      ]
     },
     "metadata": {},
     "output_type": "display_data"
    }
   ],
   "source": [
    "from IPython.display import Image, display\n",
    "\n",
    "display(Image(graph.get_graph(xray=1).draw_mermaid_png()))"
   ]
  },
  {
   "cell_type": "code",
   "execution_count": 6,
   "id": "518fc0ce",
   "metadata": {},
   "outputs": [
    {
     "name": "stdout",
     "output_type": "stream",
     "text": [
      "[{'filename': 'xx.pdf', 'page': 1, 'question': '广联达在苏中建设集团南宁龙湖春江天越项目中，具体运用了哪些BIM技术，并取得了哪些成果？', 'answer': '广联达在苏中建设集团南宁龙湖春江天越项目中，具体运用了哪些BIM技术，并取得了哪些成果？'}, {'filename': 'xx.pdf', 'page': 1, 'question': '广联达公司如何通过数字项目管理平台提升施工企业的数字化转型能力？', 'answer': '广联达公司如何通过数字项目管理平台提升施工企业的数字化转型能力？'}, {'filename': 'xx.pdf', 'page': 1, 'question': '广联达公司的BIM技术在中国建筑业中的应用现状如何？', 'answer': '广联达公司的BIM技术在中国建筑业中的应用现状如何？'}]\n"
     ]
    }
   ],
   "source": [
    "# 加载问题\n",
    "test_file_path = './test.json'\n",
    "with open(test_file_path, 'r', encoding='utf-8') as f:\n",
    "    test_datas = json.load(f)\n",
    "\n",
    "test_datas = test_datas[:3]\n",
    "print(test_datas)"
   ]
  },
  {
   "cell_type": "code",
   "execution_count": 7,
   "id": "21602c28",
   "metadata": {},
   "outputs": [
    {
     "name": "stderr",
     "output_type": "stream",
     "text": [
      "回答:   0%|          | 0/1 [00:00<?, ?it/s]"
     ]
    },
    {
     "name": "stdout",
     "output_type": "stream",
     "text": [
      "['广联达在苏中建设集团南宁龙湖春江天越项目中，具体运用了哪些BIM技术，并取得了哪些成果？', '广联达公司如何通过数字项目管理平台提升施工企业的数字化转型能力？', '广联达公司的BIM技术在中国建筑业中的应用现状如何？']\n"
     ]
    },
    {
     "name": "stderr",
     "output_type": "stream",
     "text": [
      "\u001b[32m2025-08-25 19:34:39.596\u001b[0m | \u001b[1mINFO    \u001b[0m | \u001b[36mnaive_rag.nodes\u001b[0m:\u001b[36mgenerate_node\u001b[0m:\u001b[36m110\u001b[0m - \u001b[1m广联达公司如何通过数字项目管理平台提升施工企业的数字化转型能力？\u001b[0m\n",
      "\u001b[32m2025-08-25 19:34:40.159\u001b[0m | \u001b[1mINFO    \u001b[0m | \u001b[36mnaive_rag.nodes\u001b[0m:\u001b[36mgenerate_node\u001b[0m:\u001b[36m110\u001b[0m - \u001b[1m广联达在苏中建设集团南宁龙湖春江天越项目中，具体运用了哪些BIM技术，并取得了哪些成果？\u001b[0m\n",
      "\u001b[32m2025-08-25 19:34:43.561\u001b[0m | \u001b[1mINFO    \u001b[0m | \u001b[36mnaive_rag.nodes\u001b[0m:\u001b[36mgenerate_node\u001b[0m:\u001b[36m110\u001b[0m - \u001b[1m广联达公司的BIM技术在中国建筑业中的应用现状如何？\u001b[0m\n",
      "回答: 100%|██████████| 1/1 [00:10<00:00, 10.82s/it]\n"
     ]
    }
   ],
   "source": [
    "for i in tqdm(range(0, len(test_datas), 3), desc='回答'):\n",
    "    batch_queries = test_datas[i:i+10]\n",
    "    queries = [test_data['question'] for test_data in batch_queries]\n",
    "    print(queries)\n",
    "\n",
    "    graph.invoke(\n",
    "        input={'queries': queries},\n",
    "        config=config\n",
    "    )"
   ]
  },
  {
   "cell_type": "code",
   "execution_count": 8,
   "id": "3e7d30be",
   "metadata": {},
   "outputs": [],
   "source": [
    "queries = 'a'"
   ]
  },
  {
   "cell_type": "code",
   "execution_count": 9,
   "id": "4b28dcdb",
   "metadata": {},
   "outputs": [
    {
     "data": {
      "text/plain": [
       "'a'"
      ]
     },
     "execution_count": 9,
     "metadata": {},
     "output_type": "execute_result"
    }
   ],
   "source": [
    "queries"
   ]
  },
  {
   "cell_type": "code",
   "execution_count": null,
   "id": "681950a9",
   "metadata": {},
   "outputs": [],
   "source": [
    "# 处理向量数据库中的错误，包括\n",
    "# 1. 当时由于解析错误，图片的内容为 ‘图片解析错误’\n",
    "# 2. 由于解析错误，表格的内容为 ‘表格解析错误’\n",
    "# 3. 两个错误很多的文件：连连数字-港股公司研究报告-全球化牌照与稳定币创新双轮驱动跨境支付巨头迎盈利拐点-25071428页.pdf\n",
    "#                      微光股份-公司首次覆盖深度报告电机主业地位稳固机器人打造增长新引擎-25071418页.pdf"
   ]
  },
  {
   "cell_type": "code",
   "execution_count": 9,
   "id": "da31fe3a",
   "metadata": {},
   "outputs": [],
   "source": [
    "search_data = embed_model.embed_query('解析错误')"
   ]
  },
  {
   "cell_type": "code",
   "execution_count": 34,
   "id": "ae90fab1",
   "metadata": {},
   "outputs": [],
   "source": [
    "# 删除这两个文件对应的实体\n",
    "\n",
    "a = vector_store.client.search(\n",
    "    collection_name='mrag',\n",
    "    data=[search_data],\n",
    "    filter='filename == \"连连数字-港股公司研究报告-全球化牌照与稳定币创新双轮驱动跨境支付巨头迎盈利拐点-25071428页.pdf\"',\n",
    "    limit=200,\n",
    "    anns_field='dense',\n",
    "    output_fields=['filename', 'text']\n",
    ")"
   ]
  },
  {
   "cell_type": "code",
   "execution_count": 35,
   "id": "3c9e92b0",
   "metadata": {},
   "outputs": [
    {
     "data": {
      "text/plain": [
       "data: [[]]"
      ]
     },
     "execution_count": 35,
     "metadata": {},
     "output_type": "execute_result"
    }
   ],
   "source": [
    "a"
   ]
  },
  {
   "cell_type": "code",
   "execution_count": null,
   "id": "57a37646",
   "metadata": {},
   "outputs": [],
   "source": []
  },
  {
   "cell_type": "code",
   "execution_count": 33,
   "id": "0ac5c42f",
   "metadata": {},
   "outputs": [
    {
     "data": {
      "text/plain": [
       "(1, pymilvus.client.search_result.SearchResult)"
      ]
     },
     "execution_count": 33,
     "metadata": {},
     "output_type": "execute_result"
    }
   ],
   "source": [
    "len(a), type(a)"
   ]
  },
  {
   "cell_type": "code",
   "execution_count": 32,
   "id": "08db2107",
   "metadata": {},
   "outputs": [
    {
     "data": {
      "text/plain": [
       "data: [[{'pk': 'f09b3b00-f915-40d7-982c-a9fd49407e7f', 'distance': 0.9258251786231995, 'entity': {'filename': '微光股份-公司首次覆盖深度报告电机主业地位稳固机器人打造增长新引擎-25071418页.pdf', 'text': \"图片解析错误\\nitem: {'type': 'image', 'img_path': 'images/07f8b7e39b92d302b0fd0ea7871bcb78070e962db27dd9315cba7ca402b43722.jpg', 'image_caption': ['图5:公司分产品毛利率情况（重分类）', '资料来源：iFind，甬兴证券研究所注：2020年\\\\\\\\~2023年制冷电机及风机采用ECM电机、冷柜电机、磷酸铁锂、汽车空调机组、外转子风机五项总和'], 'image_footnote': [], 'page_idx': 6, 'filename': '微光股份-公司首次覆盖深度报告电机主业地位稳固机器人打造增长新引擎-25071418页.pdf'}\"}}, {'pk': 'd619e799-87b8-4c6b-a9f2-75b3f35ef26e', 'distance': 0.9448670148849487, 'entity': {'filename': '微光股份-公司首次覆盖深度报告电机主业地位稳固机器人打造增长新引擎-25071418页.pdf', 'text': \"图片解析错误\\nitem: {'type': 'image', 'img_path': 'images/56a79dde64f73eddff4c88eba8863ceb971cae64d230ffe9636e02cb2bd53a1c.jpg', 'image_caption': ['图4:公司分产品营收情况（亿元）（重分类)', '资料来源：iFind，甬兴证券研究所注：2020年\\\\\\\\~2023年制冷电机及风机采用ECM电机、冷柜电机、磷酸铁锂、汽车空调机组、外转子风机五项总和'], 'image_footnote': [], 'page_idx': 6, 'filename': '微光股份-公司首次覆盖深度报告电机主业地位稳固机器人打造增长新引擎-25071418页.pdf'}\"}}, {'pk': 'b4e6835d-d165-4b57-b1af-6b8320568913', 'distance': 0.9720271229743958, 'entity': {'filename': '广联达-公司研究报告-造价为盾施工为矛剑指一体化数字建筑平台-23011330页.pdf', 'text': \"图片解析错误\\nitem: {'type': 'image', 'img_path': 'images/4715e71ea8a1e6860af22bc33958b2fb3a0d9a9a506a21527bf9e0c260ab1bc5.jpg', 'image_caption': ['图表24：造价业务反盗版模型', '来源：公司公告，国金证券研究所'], 'image_footnote': [], 'page_idx': 13, 'filename': '广联达-公司研究报告-造价为盾施工为矛剑指一体化数字建筑平台-23011330页.pdf'}\"}}, {'pk': 'ee13e92a-592a-4153-ab3b-cfb2ae632ed0', 'distance': 0.9807886481285095, 'entity': {'filename': '微光股份-公司首次覆盖深度报告电机主业地位稳固机器人打造增长新引擎-25071418页.pdf', 'text': \"图片解析错误\\nitem: {'type': 'image', 'img_path': 'images/c16da44c1c2a05ba1477da65962801a9437dc34ade595920e2625e219a63e6cc.jpg', 'image_caption': ['图10:公司归母净利润情况（亿元)', '资料来源：iFind，甬兴证券研究所'], 'image_footnote': [], 'page_idx': 7, 'filename': '微光股份-公司首次覆盖深度报告电机主业地位稳固机器人打造增长新引擎-25071418页.pdf'}\"}}, {'pk': '347dc5d6-6dd4-4fff-943d-c471834a8985', 'distance': 0.9893766045570374, 'entity': {'filename': '微光股份-公司首次覆盖深度报告电机主业地位稳固机器人打造增长新引擎-25071418页.pdf', 'text': \"图片解析错误\\nitem: {'type': 'image', 'img_path': 'images/cc441731a4e3f62e0adff670d9cd80c9d692392422d42b5f32a557b07b809424.jpg', 'image_caption': ['图17:2023 年伺服市场竞争格局', '资料来源：格物致胜，甬兴证券研究所'], 'image_footnote': [], 'page_idx': 9, 'filename': '微光股份-公司首次覆盖深度报告电机主业地位稳固机器人打造增长新引擎-25071418页.pdf'}\"}}, {'pk': '0dfdd523-8299-41af-b720-dac9dcb3a8b0', 'distance': 0.9896957874298096, 'entity': {'filename': '微光股份-公司首次覆盖深度报告电机主业地位稳固机器人打造增长新引擎-25071418页.pdf', 'text': \"图片解析错误\\nitem: {'type': 'image', 'img_path': 'images/f31129298bce6fae2bbf7ce061cc563d3003fe2a59c1499336e50474af3f37b8.jpg', 'image_caption': ['图2:公司分产品营收情况（亿元）（原始口径）', '资料来源：iFind，甬兴证券研究所'], 'image_footnote': [], 'page_idx': 5, 'filename': '微光股份-公司首次覆盖深度报告电机主业地位稳固机器人打造增长新引擎-25071418页.pdf'}\"}}, {'pk': '6d3639ce-c0ef-4013-b68c-30ab62b61c72', 'distance': 0.994407594203949, 'entity': {'filename': '微光股份-公司首次覆盖深度报告电机主业地位稳固机器人打造增长新引擎-25071418页.pdf', 'text': \"图片解析错误\\nitem: {'type': 'image', 'img_path': 'images/3662b9ae3e55e29d0e93d9c1db779f933cc57f0d797043d8875809b09452d667.jpg', 'image_caption': ['图24:全球无框力矩电机市场规模（亿美元)'], 'image_footnote': [], 'page_idx': 11, 'filename': '微光股份-公司首次覆盖深度报告电机主业地位稳固机器人打造增长新引擎-25071418页.pdf'}\"}}, {'pk': '3b0d6ed1-f113-4aa4-8630-8f45807bcf11', 'distance': 0.9960106015205383, 'entity': {'filename': '广联达-公司深度报告四小龙有望成为施工百亿市场增长引擎-24050531页.pdf', 'text': \"图片解析错误\\nitem: {'type': 'image', 'img_path': 'images/29c604780deb7d078c45daa67fc508f7554d65aed2aec39069ac716887302bf3.jpg', 'image_caption': ['图47：公司打造“四小龙”产品矩阵', '资料来源：公司官网、浙商证券研究所整理'], 'image_footnote': [], 'page_idx': 20, 'filename': '广联达-公司深度报告四小龙有望成为施工百亿市场增长引擎-24050531页.pdf'}\"}}, {'pk': 'dc6a60da-67f5-4855-a236-38bc396823d1', 'distance': 0.996042013168335, 'entity': {'filename': '微光股份-公司首次覆盖深度报告电机主业地位稳固机器人打造增长新引擎-25071418页.pdf', 'text': \"图片解析错误\\nitem: {'type': 'image', 'img_path': 'images/98664a1ae00e3766e6410e920c4af1a4b1d23f9f5141cc7282a3816d10a4cc00.jpg', 'image_caption': ['图11:公司扣非归母净利润情况 (亿元)', '资料来源：iFind，甬兴证券研究所'], 'image_footnote': [], 'page_idx': 7, 'filename': '微光股份-公司首次覆盖深度报告电机主业地位稳固机器人打造增长新引擎-25071418页.pdf'}\"}}, {'pk': 'b2bb077e-cb05-4c90-b7e1-b04e62e29f92', 'distance': 0.9964055418968201, 'entity': {'filename': '微光股份-公司首次覆盖深度报告电机主业地位稳固机器人打造增长新引擎-25071418页.pdf', 'text': \"图片解析错误\\nitem: {'type': 'image', 'img_path': 'images/76c2019148f741a683c39420fc0391a9b39d2ab139350c35756d5d052ad5afe8.jpg', 'image_caption': ['图13:中国冷链物流市场规模（亿美元)', '资料来源：Mordor Intelligence，甬兴证券研究所'], 'image_footnote': [], 'page_idx': 8, 'filename': '微光股份-公司首次覆盖深度报告电机主业地位稳固机器人打造增长新引擎-25071418页.pdf'}\"}}] ... and 50 entities remaining]"
      ]
     },
     "execution_count": 32,
     "metadata": {},
     "output_type": "execute_result"
    }
   ],
   "source": [
    "a"
   ]
  },
  {
   "cell_type": "code",
   "execution_count": null,
   "id": "0bc31b35",
   "metadata": {},
   "outputs": [],
   "source": []
  },
  {
   "cell_type": "code",
   "execution_count": null,
   "id": "884c5e39",
   "metadata": {},
   "outputs": [],
   "source": []
  },
  {
   "cell_type": "code",
   "execution_count": 37,
   "id": "63607fef",
   "metadata": {},
   "outputs": [],
   "source": [
    "from run_test import parse_answers\n",
    "\n",
    "parse_answers()"
   ]
  },
  {
   "cell_type": "code",
   "execution_count": 3,
   "id": "0f24ca48",
   "metadata": {},
   "outputs": [],
   "source": [
    "import re"
   ]
  },
  {
   "cell_type": "code",
   "execution_count": 4,
   "id": "f05361bb",
   "metadata": {},
   "outputs": [],
   "source": [
    "# 文本清洗函数\n",
    "def clean_text(text):\n",
    "    # 1. 转换为小写（处理可能的英文答案）\n",
    "    text = text.lower()\n",
    "    # 2. 移除所有标点符号和空格\n",
    "    # 匹配所有非汉字、非字母、非数字的字符\n",
    "    cleaned = re.sub(r'[^\\u4e00-\\u9fff\\w]', '', text)\n",
    "    return cleaned"
   ]
  },
  {
   "cell_type": "code",
   "execution_count": 6,
   "id": "8064e700",
   "metadata": {},
   "outputs": [
    {
     "data": {
      "text/plain": [
       "'根据伊利股份公司深度报告中的内容影响奶粉行业规模的主要因素包括1新生儿的数量近年来新生儿数量下滑严重成为影响行业规模最主要的因素这主要是由于人口结构变化和生育时间推迟导致的206个月的纯母乳哺乳率虽然2017年我国06个月纯母乳哺乳率约为29与发达国家接近但由于哺乳率高的国家多为欠发达国家因此我国的哺乳率上升空间不大3各段奶粉的人均消费量各段奶粉人均消费'"
      ]
     },
     "execution_count": 6,
     "metadata": {},
     "output_type": "execute_result"
    }
   ],
   "source": [
    "# a = '根据伊利股份的公司深度报告《王者荣耀行稳致远》，伊利在2005年后通过以下营销策略实现了后来居上：\\n\\n1. **拿下北京奥运会官方合作伙伴**：在2008年成为北京奥运会官方合作伙伴。\\n2. **综艺节目合作**：在2013年综艺节目逐渐成为新的流量入口后，把握住了中国好声音、奔跑吧兄弟、爸爸去哪儿等爆款节目，逐渐占据营销的上风。\\n\\n这些策略帮助伊利在2005年后实现了后来居上。'\n",
    "\n",
    "a = '根据《伊利股份-公司深度报告》中的内容，影响奶粉行业规模的主要因素包括：\\n\\n1. **新生儿的数量**：近年来新生儿数量下滑严重，成为影响行业规模最主要的因素。这主要是由于人口结构变化和生育时间推迟导致的。\\n\\n2. **0-6个月的纯母乳哺乳率**：虽然2017年我国0-6个月纯母乳哺乳率约为29%，与发达国家接近，但由于哺乳率高的国家多为欠发达国家，因此我国的哺乳率上升空间不大。\\n\\n3. **各段奶粉的人均消费量**：各段奶粉人均消费'\n",
    "\n",
    "clean_text(a)"
   ]
  },
  {
   "cell_type": "code",
   "execution_count": 7,
   "id": "bf0a7b4a",
   "metadata": {},
   "outputs": [],
   "source": [
    "import re\n",
    "\n",
    "def get_answer_score(pred_answer: str, gt_answer: str) -> float:\n",
    "    \"\"\"\n",
    "    计算预测答案与真实答案的Jaccard相似系数（字符级），先进行中文文本清洗\n",
    "    \n",
    "    清洗操作：\n",
    "    - 移除所有标点符号（中英文标点）\n",
    "    - 移除所有空格（包括全角/半角空格）\n",
    "    - 保留汉字、字母和数字\n",
    "    - 转换为小写（处理可能的英文答案）\n",
    "    \n",
    "    参数:\n",
    "    pred_answer (str): 预测答案字符串\n",
    "    gt_answer (str): 真实答案字符串\n",
    "    \n",
    "    返回:\n",
    "    float: Jaccard相似系数，范围[0, 1]\n",
    "    \"\"\"\n",
    "    # 文本清洗函数\n",
    "    def clean_text(text):\n",
    "        # 1. 转换为小写（处理可能的英文答案）\n",
    "        text = text.lower()\n",
    "        # 2. 移除所有标点符号和空格\n",
    "        # 匹配所有非汉字、非字母、非数字的字符\n",
    "        cleaned = re.sub(r'[^\\u4e00-\\u9fff\\w]', '', text)\n",
    "        return cleaned\n",
    "    \n",
    "    # 清洗两个答案\n",
    "    clean_pred = clean_text(pred_answer)\n",
    "    clean_gt = clean_text(gt_answer)\n",
    "    \n",
    "    # 转换为字符集合（自动去重）\n",
    "    set_pred = set(clean_pred)\n",
    "    set_gt = set(clean_gt)\n",
    "    \n",
    "    # 计算交集和并集大小\n",
    "    intersection_size = len(set_pred & set_gt)\n",
    "    union_size = len(set_pred | set_gt)\n",
    "    \n",
    "    # 处理全空情况（两个空字符串相似度为1.0）\n",
    "    if union_size == 0:\n",
    "        return 1.0\n",
    "    \n",
    "    # 计算Jaccard相似系数\n",
    "    return intersection_size / union_size"
   ]
  },
  {
   "cell_type": "code",
   "execution_count": 8,
   "id": "823eb4be",
   "metadata": {},
   "outputs": [
    {
     "data": {
      "text/plain": [
       "0.1568627450980392"
      ]
     },
     "execution_count": 8,
     "metadata": {},
     "output_type": "execute_result"
    }
   ],
   "source": [
    "b = '根据伊利股份公司深度报告中的内容'\n",
    "\n",
    "get_answer_score(a, b)"
   ]
  },
  {
   "cell_type": "code",
   "execution_count": null,
   "id": "08ba7d1e",
   "metadata": {},
   "outputs": [],
   "source": []
  }
 ],
 "metadata": {
  "kernelspec": {
   "display_name": "llm",
   "language": "python",
   "name": "python3"
  },
  "language_info": {
   "codemirror_mode": {
    "name": "ipython",
    "version": 3
   },
   "file_extension": ".py",
   "mimetype": "text/x-python",
   "name": "python",
   "nbconvert_exporter": "python",
   "pygments_lexer": "ipython3",
   "version": "3.12.8"
  }
 },
 "nbformat": 4,
 "nbformat_minor": 5
}
